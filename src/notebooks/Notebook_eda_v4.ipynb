{
 "cells": [
  {
   "cell_type": "markdown",
   "metadata": {},
   "source": [
    "# Data Cleaning"
   ]
  },
  {
   "cell_type": "code",
   "execution_count": 16,
   "metadata": {},
   "outputs": [],
   "source": [
    "import numpy as np\n",
    "import pandas as pd"
   ]
  },
  {
   "cell_type": "code",
   "execution_count": 17,
   "metadata": {},
   "outputs": [],
   "source": [
    "file = \"C:/Users/María Moya/Documents/GitHub/PROJECT_EDA_JOAQUINVILLAR_ONLINE_DS_THEBRIDGE/src/data/Hello_Auto_data.xlsx\""
   ]
  },
  {
   "cell_type": "code",
   "execution_count": 18,
   "metadata": {},
   "outputs": [
    {
     "data": {
      "text/html": [
       "<div>\n",
       "<style scoped>\n",
       "    .dataframe tbody tr th:only-of-type {\n",
       "        vertical-align: middle;\n",
       "    }\n",
       "\n",
       "    .dataframe tbody tr th {\n",
       "        vertical-align: top;\n",
       "    }\n",
       "\n",
       "    .dataframe thead th {\n",
       "        text-align: right;\n",
       "    }\n",
       "</style>\n",
       "<table border=\"1\" class=\"dataframe\">\n",
       "  <thead>\n",
       "    <tr style=\"text-align: right;\">\n",
       "      <th></th>\n",
       "      <th>policyId</th>\n",
       "      <th>claimId</th>\n",
       "      <th>claimDate</th>\n",
       "      <th>claimStatus</th>\n",
       "    </tr>\n",
       "  </thead>\n",
       "  <tbody>\n",
       "    <tr>\n",
       "      <th>2036</th>\n",
       "      <td>2998</td>\n",
       "      <td>634</td>\n",
       "      <td>2021-03-26</td>\n",
       "      <td>Cierre</td>\n",
       "    </tr>\n",
       "    <tr>\n",
       "      <th>4757</th>\n",
       "      <td>8204</td>\n",
       "      <td>4617</td>\n",
       "      <td>2022-05-17</td>\n",
       "      <td>Cierre</td>\n",
       "    </tr>\n",
       "    <tr>\n",
       "      <th>6113</th>\n",
       "      <td>12109</td>\n",
       "      <td>4263</td>\n",
       "      <td>2022-03-31</td>\n",
       "      <td>Cierre</td>\n",
       "    </tr>\n",
       "    <tr>\n",
       "      <th>7122</th>\n",
       "      <td>15174</td>\n",
       "      <td>4817</td>\n",
       "      <td>2022-06-02</td>\n",
       "      <td>Cierre</td>\n",
       "    </tr>\n",
       "    <tr>\n",
       "      <th>4261</th>\n",
       "      <td>7101</td>\n",
       "      <td>2361</td>\n",
       "      <td>2021-09-23</td>\n",
       "      <td>Cierre</td>\n",
       "    </tr>\n",
       "    <tr>\n",
       "      <th>5723</th>\n",
       "      <td>10772</td>\n",
       "      <td>5572</td>\n",
       "      <td>2022-05-30</td>\n",
       "      <td>Cierre</td>\n",
       "    </tr>\n",
       "    <tr>\n",
       "      <th>1659</th>\n",
       "      <td>2354</td>\n",
       "      <td>723</td>\n",
       "      <td>2021-04-12</td>\n",
       "      <td>Cierre</td>\n",
       "    </tr>\n",
       "    <tr>\n",
       "      <th>6888</th>\n",
       "      <td>14473</td>\n",
       "      <td>8686</td>\n",
       "      <td>2023-04-16</td>\n",
       "      <td>Cierre</td>\n",
       "    </tr>\n",
       "    <tr>\n",
       "      <th>8121</th>\n",
       "      <td>18052</td>\n",
       "      <td>8407</td>\n",
       "      <td>2023-03-20</td>\n",
       "      <td>Cierre</td>\n",
       "    </tr>\n",
       "    <tr>\n",
       "      <th>10225</th>\n",
       "      <td>25692</td>\n",
       "      <td>9896</td>\n",
       "      <td>2023-07-06</td>\n",
       "      <td>Cierre</td>\n",
       "    </tr>\n",
       "    <tr>\n",
       "      <th>5546</th>\n",
       "      <td>10156</td>\n",
       "      <td>12294</td>\n",
       "      <td>2023-10-05</td>\n",
       "      <td>Cierre</td>\n",
       "    </tr>\n",
       "    <tr>\n",
       "      <th>767</th>\n",
       "      <td>1104</td>\n",
       "      <td>3702</td>\n",
       "      <td>2022-02-14</td>\n",
       "      <td>Cierre</td>\n",
       "    </tr>\n",
       "  </tbody>\n",
       "</table>\n",
       "</div>"
      ],
      "text/plain": [
       "       policyId  claimId  claimDate claimStatus\n",
       "2036       2998      634 2021-03-26      Cierre\n",
       "4757       8204     4617 2022-05-17      Cierre\n",
       "6113      12109     4263 2022-03-31      Cierre\n",
       "7122      15174     4817 2022-06-02      Cierre\n",
       "4261       7101     2361 2021-09-23      Cierre\n",
       "5723      10772     5572 2022-05-30      Cierre\n",
       "1659       2354      723 2021-04-12      Cierre\n",
       "6888      14473     8686 2023-04-16      Cierre\n",
       "8121      18052     8407 2023-03-20      Cierre\n",
       "10225     25692     9896 2023-07-06      Cierre\n",
       "5546      10156    12294 2023-10-05      Cierre\n",
       "767        1104     3702 2022-02-14      Cierre"
      ]
     },
     "execution_count": 18,
     "metadata": {},
     "output_type": "execute_result"
    }
   ],
   "source": [
    "df_claims = pd.read_excel(file,sheet_name = \"Claims\")\n",
    "df_claims\n",
    "df_claims.sample(12)"
   ]
  },
  {
   "cell_type": "code",
   "execution_count": 19,
   "metadata": {},
   "outputs": [
    {
     "name": "stdout",
     "output_type": "stream",
     "text": [
      "<class 'pandas.core.frame.DataFrame'>\n",
      "RangeIndex: 12397 entries, 0 to 12396\n",
      "Data columns (total 4 columns):\n",
      " #   Column       Non-Null Count  Dtype         \n",
      "---  ------       --------------  -----         \n",
      " 0   policyId     12397 non-null  int64         \n",
      " 1   claimId      12397 non-null  int64         \n",
      " 2   claimDate    12397 non-null  datetime64[ns]\n",
      " 3   claimStatus  12397 non-null  object        \n",
      "dtypes: datetime64[ns](1), int64(2), object(1)\n",
      "memory usage: 387.5+ KB\n"
     ]
    }
   ],
   "source": [
    "df_claims.info()"
   ]
  },
  {
   "cell_type": "markdown",
   "metadata": {},
   "source": [
    "| Column          | Description  |\n",
    "|-----------------|-----------------|\n",
    "| claimId   | Número de identificación de siniestro| \n",
    "| claimDate | Día que se ha originado el siniestro| \n",
    "| claimStatus | Estado del siniestro|\n",
    "| policyId        | Número de identificación de póliza contratada| "
   ]
  },
  {
   "cell_type": "code",
   "execution_count": 20,
   "metadata": {},
   "outputs": [
    {
     "data": {
      "text/plain": [
       "np.int64(0)"
      ]
     },
     "execution_count": 20,
     "metadata": {},
     "output_type": "execute_result"
    }
   ],
   "source": [
    "#Duplicados\n",
    "df_claims.duplicated(keep=False).sum()"
   ]
  },
  {
   "cell_type": "code",
   "execution_count": 21,
   "metadata": {},
   "outputs": [
    {
     "data": {
      "text/plain": [
       "policyId       0\n",
       "claimId        0\n",
       "claimDate      0\n",
       "claimStatus    0\n",
       "dtype: int64"
      ]
     },
     "execution_count": 21,
     "metadata": {},
     "output_type": "execute_result"
    }
   ],
   "source": [
    "df_claims.isna().sum()"
   ]
  },
  {
   "cell_type": "code",
   "execution_count": 22,
   "metadata": {},
   "outputs": [
    {
     "data": {
      "text/plain": [
       "policyId\n",
       "14285    10\n",
       "2108     10\n",
       "10567     9\n",
       "3154      8\n",
       "1740      8\n",
       "         ..\n",
       "41984     1\n",
       "41999     1\n",
       "42003     1\n",
       "42225     1\n",
       "11        1\n",
       "Name: count, Length: 8826, dtype: int64"
      ]
     },
     "execution_count": 22,
     "metadata": {},
     "output_type": "execute_result"
    }
   ],
   "source": [
    "df_claims.policyId.value_counts()"
   ]
  },
  {
   "cell_type": "markdown",
   "metadata": {},
   "source": [
    "# Análisis Univariante\n"
   ]
  },
  {
   "cell_type": "code",
   "execution_count": 23,
   "metadata": {},
   "outputs": [
    {
     "data": {
      "text/html": [
       "<div>\n",
       "<style scoped>\n",
       "    .dataframe tbody tr th:only-of-type {\n",
       "        vertical-align: middle;\n",
       "    }\n",
       "\n",
       "    .dataframe tbody tr th {\n",
       "        vertical-align: top;\n",
       "    }\n",
       "\n",
       "    .dataframe thead th {\n",
       "        text-align: right;\n",
       "    }\n",
       "</style>\n",
       "<table border=\"1\" class=\"dataframe\">\n",
       "  <thead>\n",
       "    <tr style=\"text-align: right;\">\n",
       "      <th></th>\n",
       "      <th>Card</th>\n",
       "      <th>%_Card</th>\n",
       "      <th>Tipo</th>\n",
       "    </tr>\n",
       "  </thead>\n",
       "  <tbody>\n",
       "    <tr>\n",
       "      <th>policyId</th>\n",
       "      <td>8826</td>\n",
       "      <td>71.194644</td>\n",
       "      <td>int64</td>\n",
       "    </tr>\n",
       "    <tr>\n",
       "      <th>claimId</th>\n",
       "      <td>12397</td>\n",
       "      <td>100.0</td>\n",
       "      <td>int64</td>\n",
       "    </tr>\n",
       "    <tr>\n",
       "      <th>claimDate</th>\n",
       "      <td>1237</td>\n",
       "      <td>9.978221</td>\n",
       "      <td>datetime64[ns]</td>\n",
       "    </tr>\n",
       "    <tr>\n",
       "      <th>claimStatus</th>\n",
       "      <td>2</td>\n",
       "      <td>0.016133</td>\n",
       "      <td>object</td>\n",
       "    </tr>\n",
       "  </tbody>\n",
       "</table>\n",
       "</div>"
      ],
      "text/plain": [
       "              Card     %_Card            Tipo\n",
       "policyId      8826  71.194644           int64\n",
       "claimId      12397      100.0           int64\n",
       "claimDate     1237   9.978221  datetime64[ns]\n",
       "claimStatus      2   0.016133          object"
      ]
     },
     "execution_count": 23,
     "metadata": {},
     "output_type": "execute_result"
    }
   ],
   "source": [
    "# Selección\n",
    "df_tipificacion = pd.DataFrame([df_claims.nunique(), df_claims.nunique()/len(df_claims) * 100, df_claims.dtypes]).T.rename(columns = {0: \"Card\",\\\n",
    "                                                                                                                                 1: \"%_Card\", 2: \"Tipo\"})\n",
    "df_tipificacion"
   ]
  },
  {
   "cell_type": "code",
   "execution_count": 24,
   "metadata": {},
   "outputs": [
    {
     "data": {
      "text/html": [
       "<div>\n",
       "<style scoped>\n",
       "    .dataframe tbody tr th:only-of-type {\n",
       "        vertical-align: middle;\n",
       "    }\n",
       "\n",
       "    .dataframe tbody tr th {\n",
       "        vertical-align: top;\n",
       "    }\n",
       "\n",
       "    .dataframe thead th {\n",
       "        text-align: right;\n",
       "    }\n",
       "</style>\n",
       "<table border=\"1\" class=\"dataframe\">\n",
       "  <thead>\n",
       "    <tr style=\"text-align: right;\">\n",
       "      <th></th>\n",
       "      <th>Card</th>\n",
       "      <th>%_Card</th>\n",
       "      <th>Tipo</th>\n",
       "      <th>Clasificada_como</th>\n",
       "    </tr>\n",
       "  </thead>\n",
       "  <tbody>\n",
       "    <tr>\n",
       "      <th>policyId</th>\n",
       "      <td>8826</td>\n",
       "      <td>71.194644</td>\n",
       "      <td>int64</td>\n",
       "      <td>Numerica Continua</td>\n",
       "    </tr>\n",
       "    <tr>\n",
       "      <th>claimId</th>\n",
       "      <td>12397</td>\n",
       "      <td>100.0</td>\n",
       "      <td>int64</td>\n",
       "      <td>Numerica Continua</td>\n",
       "    </tr>\n",
       "    <tr>\n",
       "      <th>claimDate</th>\n",
       "      <td>1237</td>\n",
       "      <td>9.978221</td>\n",
       "      <td>datetime64[ns]</td>\n",
       "      <td>Numerica Discreta</td>\n",
       "    </tr>\n",
       "    <tr>\n",
       "      <th>claimStatus</th>\n",
       "      <td>2</td>\n",
       "      <td>0.016133</td>\n",
       "      <td>object</td>\n",
       "      <td>Binaria</td>\n",
       "    </tr>\n",
       "  </tbody>\n",
       "</table>\n",
       "</div>"
      ],
      "text/plain": [
       "              Card     %_Card            Tipo   Clasificada_como\n",
       "policyId      8826  71.194644           int64  Numerica Continua\n",
       "claimId      12397      100.0           int64  Numerica Continua\n",
       "claimDate     1237   9.978221  datetime64[ns]  Numerica Discreta\n",
       "claimStatus      2   0.016133          object            Binaria"
      ]
     },
     "execution_count": 24,
     "metadata": {},
     "output_type": "execute_result"
    }
   ],
   "source": [
    "df_tipificacion[\"Clasificada_como\"] = \"Categorica\" # PArtiendo de que casi todas parecen categóricas\n",
    "df_tipificacion.loc[df_tipificacion.Card == 2, \"Clasificada_como\"] = \"Binaria\"\n",
    "df_tipificacion.loc[df_tipificacion[\"Card\"] > 10, \"Clasificada_como\"] =\"Numerica Discreta\"\n",
    "df_tipificacion.loc[df_tipificacion[\"%_Card\"] > 30, \"Clasificada_como\"] = \"Numerica Continua\"\n",
    "df_tipificacion"
   ]
  },
  {
   "cell_type": "code",
   "execution_count": 25,
   "metadata": {},
   "outputs": [
    {
     "data": {
      "text/html": [
       "<div>\n",
       "<style scoped>\n",
       "    .dataframe tbody tr th:only-of-type {\n",
       "        vertical-align: middle;\n",
       "    }\n",
       "\n",
       "    .dataframe tbody tr th {\n",
       "        vertical-align: top;\n",
       "    }\n",
       "\n",
       "    .dataframe thead th {\n",
       "        text-align: right;\n",
       "    }\n",
       "</style>\n",
       "<table border=\"1\" class=\"dataframe\">\n",
       "  <thead>\n",
       "    <tr style=\"text-align: right;\">\n",
       "      <th></th>\n",
       "      <th>policyId</th>\n",
       "      <th>claimId</th>\n",
       "      <th>claimDate</th>\n",
       "    </tr>\n",
       "  </thead>\n",
       "  <tbody>\n",
       "    <tr>\n",
       "      <th>count</th>\n",
       "      <td>12397.000000</td>\n",
       "      <td>12397.000000</td>\n",
       "      <td>12397</td>\n",
       "    </tr>\n",
       "    <tr>\n",
       "      <th>mean</th>\n",
       "      <td>14265.409454</td>\n",
       "      <td>6403.772848</td>\n",
       "      <td>2022-08-31 00:42:51.718964480</td>\n",
       "    </tr>\n",
       "    <tr>\n",
       "      <th>min</th>\n",
       "      <td>4.000000</td>\n",
       "      <td>1.000000</td>\n",
       "      <td>2020-02-03 00:00:00</td>\n",
       "    </tr>\n",
       "    <tr>\n",
       "      <th>25%</th>\n",
       "      <td>4853.000000</td>\n",
       "      <td>3266.000000</td>\n",
       "      <td>2021-12-05 00:00:00</td>\n",
       "    </tr>\n",
       "    <tr>\n",
       "      <th>50%</th>\n",
       "      <td>12318.000000</td>\n",
       "      <td>6418.000000</td>\n",
       "      <td>2022-10-08 00:00:00</td>\n",
       "    </tr>\n",
       "    <tr>\n",
       "      <th>75%</th>\n",
       "      <td>22140.000000</td>\n",
       "      <td>9555.000000</td>\n",
       "      <td>2023-05-30 00:00:00</td>\n",
       "    </tr>\n",
       "    <tr>\n",
       "      <th>max</th>\n",
       "      <td>44572.000000</td>\n",
       "      <td>12721.000000</td>\n",
       "      <td>2023-12-29 00:00:00</td>\n",
       "    </tr>\n",
       "    <tr>\n",
       "      <th>std</th>\n",
       "      <td>10759.236293</td>\n",
       "      <td>3656.127332</td>\n",
       "      <td>NaN</td>\n",
       "    </tr>\n",
       "  </tbody>\n",
       "</table>\n",
       "</div>"
      ],
      "text/plain": [
       "           policyId       claimId                      claimDate\n",
       "count  12397.000000  12397.000000                          12397\n",
       "mean   14265.409454   6403.772848  2022-08-31 00:42:51.718964480\n",
       "min        4.000000      1.000000            2020-02-03 00:00:00\n",
       "25%     4853.000000   3266.000000            2021-12-05 00:00:00\n",
       "50%    12318.000000   6418.000000            2022-10-08 00:00:00\n",
       "75%    22140.000000   9555.000000            2023-05-30 00:00:00\n",
       "max    44572.000000  12721.000000            2023-12-29 00:00:00\n",
       "std    10759.236293   3656.127332                            NaN"
      ]
     },
     "execution_count": 25,
     "metadata": {},
     "output_type": "execute_result"
    }
   ],
   "source": [
    "df_claims.describe()"
   ]
  },
  {
   "cell_type": "code",
   "execution_count": 26,
   "metadata": {},
   "outputs": [],
   "source": [
    "import matplotlib.pyplot as plt\n",
    "import seaborn as sns"
   ]
  },
  {
   "cell_type": "code",
   "execution_count": 27,
   "metadata": {},
   "outputs": [
    {
     "data": {
      "image/png": "[encoded data removed]",
      "text/plain": [
       "<Figure size 1000x600 with 1 Axes>"
      ]
     },
     "metadata": {},
     "output_type": "display_data"
    }
   ],
   "source": [
    "df_claims[\"policyId\"].value_counts(ascending=False).head(12).plot(\n",
    "    kind=\"barh\", \n",
    "    figsize=(10, 6),  # Tamaño opcional de la gráfica\n",
    "    color=\"skyblue\",  # Color opcional\n",
    "    title=\"Top 12 clientes con más siniestros\"\n",
    ")\n",
    "plt.xlabel(\"Frecuencia Absoluta\")\n",
    "plt.ylabel(\"Clientes\")\n",
    "plt.gca().invert_yaxis()  # Invertir eje Y para que el valor más alto esté arriba\n",
    "plt.show()"
   ]
  },
  {
   "cell_type": "code",
   "execution_count": 28,
   "metadata": {},
   "outputs": [
    {
     "data": {
      "text/plain": [
       "policyId\n",
       "14285    0.080665\n",
       "2108     0.080665\n",
       "10567    0.072598\n",
       "3154     0.064532\n",
       "1740     0.064532\n",
       "           ...   \n",
       "41984    0.008066\n",
       "41999    0.008066\n",
       "42003    0.008066\n",
       "42225    0.008066\n",
       "11       0.008066\n",
       "Name: count, Length: 8826, dtype: float64"
      ]
     },
     "execution_count": 28,
     "metadata": {},
     "output_type": "execute_result"
    }
   ],
   "source": [
    "# Frecuencia Relativa\n",
    "(df_claims.policyId.value_counts()/len(df_claims))*100"
   ]
  },
  {
   "cell_type": "code",
   "execution_count": 29,
   "metadata": {},
   "outputs": [
    {
     "data": {
      "image/png": "[encoded data removed]",
      "text/plain": [
       "<Figure size 1000x600 with 1 Axes>"
      ]
     },
     "metadata": {},
     "output_type": "display_data"
    }
   ],
   "source": [
    "((df_claims.policyId.value_counts(ascending=False)/len(df_claims))*100).head(12).plot(\n",
    "    kind=\"barh\", \n",
    "    figsize=(10, 6),  # Tamaño opcional de la gráfica\n",
    "    color=\"skyblue\",  # Color opcional\n",
    "    title=\"Top 12 clientes con más siniestros\"\n",
    ")\n",
    "plt.xlabel(\"Frecuencia Relativa\")\n",
    "plt.ylabel(\"Clientes\")\n",
    "plt.gca().invert_yaxis()  # Invertir eje Y para que el valor más alto esté arriba\n",
    "plt.show()"
   ]
  },
  {
   "cell_type": "code",
   "execution_count": 30,
   "metadata": {},
   "outputs": [
    {
     "name": "stdout",
     "output_type": "stream",
     "text": [
      "1.0 2.0 3.0 10\n"
     ]
    }
   ],
   "source": [
    "# Percentil\n",
    "print(df_claims.policyId.value_counts().quantile(0.5),\n",
    "    df_claims.policyId.value_counts().quantile(0.9), \n",
    "    df_claims.policyId.value_counts().quantile(0.95),\n",
    "    df_claims.policyId.value_counts().max())\n"
   ]
  },
  {
   "cell_type": "code",
   "execution_count": null,
   "metadata": {},
   "outputs": [],
   "source": []
  },
  {
   "cell_type": "code",
   "execution_count": null,
   "metadata": {},
   "outputs": [],
   "source": []
  },
  {
   "cell_type": "code",
   "execution_count": null,
   "metadata": {},
   "outputs": [],
   "source": []
  },
  {
   "cell_type": "code",
   "execution_count": null,
   "metadata": {},
   "outputs": [],
   "source": []
  },
  {
   "cell_type": "code",
   "execution_count": null,
   "metadata": {},
   "outputs": [],
   "source": []
  },
  {
   "cell_type": "code",
   "execution_count": null,
   "metadata": {},
   "outputs": [],
   "source": []
  },
  {
   "cell_type": "code",
   "execution_count": null,
   "metadata": {},
   "outputs": [],
   "source": []
  },
  {
   "cell_type": "code",
   "execution_count": null,
   "metadata": {},
   "outputs": [],
   "source": []
  }
 ],
 "metadata": {
  "kernelspec": {
   "display_name": "Python 3",
   "language": "python",
   "name": "python3"
  },
  "language_info": {
   "codemirror_mode": {
    "name": "ipython",
    "version": 3
   },
   "file_extension": ".py",
   "mimetype": "text/x-python",
   "name": "python",
   "nbconvert_exporter": "python",
   "pygments_lexer": "ipython3",
   "version": "3.13.0"
  }
 },
 "nbformat": 4,
 "nbformat_minor": 2
}
