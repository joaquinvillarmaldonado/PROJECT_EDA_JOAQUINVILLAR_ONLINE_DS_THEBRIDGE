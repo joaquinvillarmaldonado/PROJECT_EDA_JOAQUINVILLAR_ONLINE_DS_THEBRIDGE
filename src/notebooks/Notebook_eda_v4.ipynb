{
 "cells": [
  {
   "cell_type": "code",
   "execution_count": 1,
   "metadata": {},
   "outputs": [],
   "source": [
    "import numpy as np\n",
    "import pandas as pd"
   ]
  },
  {
   "cell_type": "code",
   "execution_count": 2,
   "metadata": {},
   "outputs": [],
   "source": [
    "file = \"C:/Users/María Moya/Documents/GitHub/PROJECT_EDA_JOAQUINVILLAR_ONLINE_DS_THEBRIDGE/src/data/Hello_Auto_data.xlsx\""
   ]
  },
  {
   "cell_type": "code",
   "execution_count": 3,
   "metadata": {},
   "outputs": [
    {
     "data": {
      "text/html": [
       "<div>\n",
       "<style scoped>\n",
       "    .dataframe tbody tr th:only-of-type {\n",
       "        vertical-align: middle;\n",
       "    }\n",
       "\n",
       "    .dataframe tbody tr th {\n",
       "        vertical-align: top;\n",
       "    }\n",
       "\n",
       "    .dataframe thead th {\n",
       "        text-align: right;\n",
       "    }\n",
       "</style>\n",
       "<table border=\"1\" class=\"dataframe\">\n",
       "  <thead>\n",
       "    <tr style=\"text-align: right;\">\n",
       "      <th></th>\n",
       "      <th>claimId</th>\n",
       "      <th>claimDate</th>\n",
       "      <th>openDate</th>\n",
       "      <th>claimStatus</th>\n",
       "      <th>policyId</th>\n",
       "    </tr>\n",
       "  </thead>\n",
       "  <tbody>\n",
       "    <tr>\n",
       "      <th>5938</th>\n",
       "      <td>6156</td>\n",
       "      <td>2022-10-12</td>\n",
       "      <td>2022-10-13</td>\n",
       "      <td>Cierre</td>\n",
       "      <td>11943</td>\n",
       "    </tr>\n",
       "    <tr>\n",
       "      <th>160</th>\n",
       "      <td>172</td>\n",
       "      <td>2020-11-16</td>\n",
       "      <td>2020-11-16</td>\n",
       "      <td>Cierre</td>\n",
       "      <td>156</td>\n",
       "    </tr>\n",
       "    <tr>\n",
       "      <th>2810</th>\n",
       "      <td>2961</td>\n",
       "      <td>2021-09-21</td>\n",
       "      <td>2021-11-23</td>\n",
       "      <td>Cierre</td>\n",
       "      <td>9105</td>\n",
       "    </tr>\n",
       "    <tr>\n",
       "      <th>8577</th>\n",
       "      <td>8819</td>\n",
       "      <td>2023-03-31</td>\n",
       "      <td>2023-04-26</td>\n",
       "      <td>Cierre</td>\n",
       "      <td>30958</td>\n",
       "    </tr>\n",
       "    <tr>\n",
       "      <th>5940</th>\n",
       "      <td>6158</td>\n",
       "      <td>2022-10-06</td>\n",
       "      <td>2022-10-13</td>\n",
       "      <td>Cierre</td>\n",
       "      <td>13196</td>\n",
       "    </tr>\n",
       "    <tr>\n",
       "      <th>5828</th>\n",
       "      <td>6044</td>\n",
       "      <td>2022-10-01</td>\n",
       "      <td>2022-10-01</td>\n",
       "      <td>Cierre</td>\n",
       "      <td>3349</td>\n",
       "    </tr>\n",
       "    <tr>\n",
       "      <th>2444</th>\n",
       "      <td>2573</td>\n",
       "      <td>2021-10-20</td>\n",
       "      <td>2021-10-20</td>\n",
       "      <td>Cierre</td>\n",
       "      <td>8284</td>\n",
       "    </tr>\n",
       "    <tr>\n",
       "      <th>11449</th>\n",
       "      <td>11766</td>\n",
       "      <td>2023-10-29</td>\n",
       "      <td>2023-10-29</td>\n",
       "      <td>Cierre</td>\n",
       "      <td>32110</td>\n",
       "    </tr>\n",
       "    <tr>\n",
       "      <th>8534</th>\n",
       "      <td>8776</td>\n",
       "      <td>2023-04-21</td>\n",
       "      <td>2023-04-24</td>\n",
       "      <td>Cierre</td>\n",
       "      <td>26021</td>\n",
       "    </tr>\n",
       "    <tr>\n",
       "      <th>6621</th>\n",
       "      <td>6841</td>\n",
       "      <td>2022-11-23</td>\n",
       "      <td>2022-11-25</td>\n",
       "      <td>Cierre</td>\n",
       "      <td>13360</td>\n",
       "    </tr>\n",
       "    <tr>\n",
       "      <th>4008</th>\n",
       "      <td>4203</td>\n",
       "      <td>2022-04-12</td>\n",
       "      <td>2022-04-12</td>\n",
       "      <td>Cierre</td>\n",
       "      <td>5196</td>\n",
       "    </tr>\n",
       "    <tr>\n",
       "      <th>8920</th>\n",
       "      <td>9172</td>\n",
       "      <td>2023-05-19</td>\n",
       "      <td>2023-05-19</td>\n",
       "      <td>Cierre</td>\n",
       "      <td>33983</td>\n",
       "    </tr>\n",
       "  </tbody>\n",
       "</table>\n",
       "</div>"
      ],
      "text/plain": [
       "       claimId  claimDate   openDate claimStatus  policyId\n",
       "5938      6156 2022-10-12 2022-10-13      Cierre     11943\n",
       "160        172 2020-11-16 2020-11-16      Cierre       156\n",
       "2810      2961 2021-09-21 2021-11-23      Cierre      9105\n",
       "8577      8819 2023-03-31 2023-04-26      Cierre     30958\n",
       "5940      6158 2022-10-06 2022-10-13      Cierre     13196\n",
       "5828      6044 2022-10-01 2022-10-01      Cierre      3349\n",
       "2444      2573 2021-10-20 2021-10-20      Cierre      8284\n",
       "11449    11766 2023-10-29 2023-10-29      Cierre     32110\n",
       "8534      8776 2023-04-21 2023-04-24      Cierre     26021\n",
       "6621      6841 2022-11-23 2022-11-25      Cierre     13360\n",
       "4008      4203 2022-04-12 2022-04-12      Cierre      5196\n",
       "8920      9172 2023-05-19 2023-05-19      Cierre     33983"
      ]
     },
     "execution_count": 3,
     "metadata": {},
     "output_type": "execute_result"
    }
   ],
   "source": [
    "df_claims = pd.read_excel(file,sheet_name = \"Claims\")\n",
    "df_claims\n",
    "df_claims.sample(12)"
   ]
  },
  {
   "cell_type": "code",
   "execution_count": 5,
   "metadata": {},
   "outputs": [
    {
     "name": "stdout",
     "output_type": "stream",
     "text": [
      "<class 'pandas.core.frame.DataFrame'>\n",
      "RangeIndex: 12397 entries, 0 to 12396\n",
      "Data columns (total 5 columns):\n",
      " #   Column       Non-Null Count  Dtype         \n",
      "---  ------       --------------  -----         \n",
      " 0   claimId      12397 non-null  int64         \n",
      " 1   claimDate    12397 non-null  datetime64[ns]\n",
      " 2   openDate     12397 non-null  datetime64[ns]\n",
      " 3   claimStatus  12397 non-null  object        \n",
      " 4   policyId     12397 non-null  int64         \n",
      "dtypes: datetime64[ns](2), int64(2), object(1)\n",
      "memory usage: 484.4+ KB\n"
     ]
    }
   ],
   "source": [
    "df_claims.info()"
   ]
  },
  {
   "cell_type": "code",
   "execution_count": 6,
   "metadata": {},
   "outputs": [
    {
     "data": {
      "text/plain": [
       "policyId\n",
       "2108     10\n",
       "14285    10\n",
       "10567     9\n",
       "3154      8\n",
       "1740      8\n",
       "         ..\n",
       "41457     1\n",
       "36990     1\n",
       "21137     1\n",
       "18670     1\n",
       "37969     1\n",
       "Name: count, Length: 8826, dtype: int64"
      ]
     },
     "execution_count": 6,
     "metadata": {},
     "output_type": "execute_result"
    }
   ],
   "source": [
    "df_claims.policyId.value_counts()"
   ]
  },
  {
   "cell_type": "code",
   "execution_count": null,
   "metadata": {},
   "outputs": [],
   "source": []
  },
  {
   "cell_type": "code",
   "execution_count": null,
   "metadata": {},
   "outputs": [],
   "source": []
  },
  {
   "cell_type": "markdown",
   "metadata": {},
   "source": [
    "# Análisis Univariante\n",
    "1.1. Cantidad de siniestros por póliza\n"
   ]
  },
  {
   "cell_type": "code",
   "execution_count": null,
   "metadata": {},
   "outputs": [],
   "source": []
  },
  {
   "cell_type": "code",
   "execution_count": null,
   "metadata": {},
   "outputs": [],
   "source": []
  },
  {
   "cell_type": "code",
   "execution_count": null,
   "metadata": {},
   "outputs": [],
   "source": []
  },
  {
   "cell_type": "code",
   "execution_count": null,
   "metadata": {},
   "outputs": [],
   "source": []
  },
  {
   "cell_type": "code",
   "execution_count": null,
   "metadata": {},
   "outputs": [],
   "source": []
  },
  {
   "cell_type": "code",
   "execution_count": null,
   "metadata": {},
   "outputs": [],
   "source": []
  },
  {
   "cell_type": "code",
   "execution_count": null,
   "metadata": {},
   "outputs": [],
   "source": []
  },
  {
   "cell_type": "code",
   "execution_count": null,
   "metadata": {},
   "outputs": [],
   "source": []
  },
  {
   "cell_type": "code",
   "execution_count": null,
   "metadata": {},
   "outputs": [],
   "source": []
  },
  {
   "cell_type": "code",
   "execution_count": null,
   "metadata": {},
   "outputs": [],
   "source": []
  },
  {
   "cell_type": "code",
   "execution_count": null,
   "metadata": {},
   "outputs": [],
   "source": []
  },
  {
   "cell_type": "code",
   "execution_count": null,
   "metadata": {},
   "outputs": [],
   "source": []
  },
  {
   "cell_type": "code",
   "execution_count": null,
   "metadata": {},
   "outputs": [],
   "source": []
  },
  {
   "cell_type": "code",
   "execution_count": null,
   "metadata": {},
   "outputs": [],
   "source": []
  },
  {
   "cell_type": "code",
   "execution_count": null,
   "metadata": {},
   "outputs": [],
   "source": []
  },
  {
   "cell_type": "code",
   "execution_count": null,
   "metadata": {},
   "outputs": [],
   "source": []
  },
  {
   "cell_type": "code",
   "execution_count": null,
   "metadata": {},
   "outputs": [],
   "source": []
  },
  {
   "cell_type": "code",
   "execution_count": null,
   "metadata": {},
   "outputs": [],
   "source": []
  },
  {
   "cell_type": "code",
   "execution_count": null,
   "metadata": {},
   "outputs": [],
   "source": []
  },
  {
   "cell_type": "code",
   "execution_count": null,
   "metadata": {},
   "outputs": [],
   "source": []
  },
  {
   "cell_type": "code",
   "execution_count": null,
   "metadata": {},
   "outputs": [],
   "source": []
  }
 ],
 "metadata": {
  "kernelspec": {
   "display_name": "Python 3",
   "language": "python",
   "name": "python3"
  },
  "language_info": {
   "codemirror_mode": {
    "name": "ipython",
    "version": 3
   },
   "file_extension": ".py",
   "mimetype": "text/x-python",
   "name": "python",
   "nbconvert_exporter": "python",
   "pygments_lexer": "ipython3",
   "version": "3.13.0"
  }
 },
 "nbformat": 4,
 "nbformat_minor": 2
}
