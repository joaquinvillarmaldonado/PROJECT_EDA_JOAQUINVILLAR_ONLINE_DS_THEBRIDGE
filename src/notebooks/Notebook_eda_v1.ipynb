{
 "cells": [
  {
   "cell_type": "code",
   "execution_count": 13,
   "metadata": {},
   "outputs": [],
   "source": [
    "import numpy as np\n",
    "import pandas as pd"
   ]
  },
  {
   "cell_type": "code",
   "execution_count": 14,
   "metadata": {},
   "outputs": [
    {
     "data": {
      "text/html": [
       "<div>\n",
       "<style scoped>\n",
       "    .dataframe tbody tr th:only-of-type {\n",
       "        vertical-align: middle;\n",
       "    }\n",
       "\n",
       "    .dataframe tbody tr th {\n",
       "        vertical-align: top;\n",
       "    }\n",
       "\n",
       "    .dataframe thead th {\n",
       "        text-align: right;\n",
       "    }\n",
       "</style>\n",
       "<table border=\"1\" class=\"dataframe\">\n",
       "  <thead>\n",
       "    <tr style=\"text-align: right;\">\n",
       "      <th></th>\n",
       "      <th>policyId</th>\n",
       "      <th>policyStatus</th>\n",
       "      <th>saleDate</th>\n",
       "      <th>policyStartDate</th>\n",
       "      <th>policyEndDate</th>\n",
       "      <th>tipoPoliza</th>\n",
       "    </tr>\n",
       "  </thead>\n",
       "  <tbody>\n",
       "    <tr>\n",
       "      <th>21045</th>\n",
       "      <td>21347.0</td>\n",
       "      <td>ACTIVE</td>\n",
       "      <td>2022-07-28</td>\n",
       "      <td>2023-07-29</td>\n",
       "      <td>2024-07-28</td>\n",
       "      <td>Smart</td>\n",
       "    </tr>\n",
       "    <tr>\n",
       "      <th>10171</th>\n",
       "      <td>10274.0</td>\n",
       "      <td>CANCELED</td>\n",
       "      <td>2021-10-11</td>\n",
       "      <td>2021-12-01</td>\n",
       "      <td>2022-11-30</td>\n",
       "      <td>Smart</td>\n",
       "    </tr>\n",
       "    <tr>\n",
       "      <th>9623</th>\n",
       "      <td>9723.0</td>\n",
       "      <td>CANCELED</td>\n",
       "      <td>2021-09-23</td>\n",
       "      <td>2021-09-23</td>\n",
       "      <td>2022-09-22</td>\n",
       "      <td>Smart</td>\n",
       "    </tr>\n",
       "    <tr>\n",
       "      <th>15588</th>\n",
       "      <td>15820.0</td>\n",
       "      <td>CANCELED</td>\n",
       "      <td>2022-03-14</td>\n",
       "      <td>2023-03-14</td>\n",
       "      <td>2024-03-13</td>\n",
       "      <td>Smart</td>\n",
       "    </tr>\n",
       "    <tr>\n",
       "      <th>11019</th>\n",
       "      <td>11124.0</td>\n",
       "      <td>NaN</td>\n",
       "      <td>2021-11-09</td>\n",
       "      <td>2022-06-12</td>\n",
       "      <td>2023-06-11</td>\n",
       "      <td>Flex</td>\n",
       "    </tr>\n",
       "    <tr>\n",
       "      <th>38343</th>\n",
       "      <td>38918.0</td>\n",
       "      <td>CANCELED</td>\n",
       "      <td>2023-08-18</td>\n",
       "      <td>2023-08-18</td>\n",
       "      <td>2024-08-17</td>\n",
       "      <td>Smart</td>\n",
       "    </tr>\n",
       "    <tr>\n",
       "      <th>37174</th>\n",
       "      <td>37742.0</td>\n",
       "      <td>CANCELED</td>\n",
       "      <td>2023-07-24</td>\n",
       "      <td>2023-07-24</td>\n",
       "      <td>2024-07-23</td>\n",
       "      <td>Smart</td>\n",
       "    </tr>\n",
       "    <tr>\n",
       "      <th>15500</th>\n",
       "      <td>15730.0</td>\n",
       "      <td>CANCELED</td>\n",
       "      <td>2022-03-10</td>\n",
       "      <td>2022-04-03</td>\n",
       "      <td>2023-04-02</td>\n",
       "      <td>Smart</td>\n",
       "    </tr>\n",
       "    <tr>\n",
       "      <th>28339</th>\n",
       "      <td>28716.0</td>\n",
       "      <td>ACTIVE</td>\n",
       "      <td>2023-01-23</td>\n",
       "      <td>2023-01-23</td>\n",
       "      <td>2024-01-22</td>\n",
       "      <td>Smart</td>\n",
       "    </tr>\n",
       "    <tr>\n",
       "      <th>12572</th>\n",
       "      <td>12781.0</td>\n",
       "      <td>NaN</td>\n",
       "      <td>2021-12-22</td>\n",
       "      <td>2022-01-30</td>\n",
       "      <td>2023-01-29</td>\n",
       "      <td>Flex</td>\n",
       "    </tr>\n",
       "    <tr>\n",
       "      <th>31001</th>\n",
       "      <td>31472.0</td>\n",
       "      <td>ACTIVE</td>\n",
       "      <td>2023-03-07</td>\n",
       "      <td>2023-03-07</td>\n",
       "      <td>2024-03-06</td>\n",
       "      <td>Smart</td>\n",
       "    </tr>\n",
       "    <tr>\n",
       "      <th>17115</th>\n",
       "      <td>17368.0</td>\n",
       "      <td>CANCELED</td>\n",
       "      <td>2022-04-27</td>\n",
       "      <td>2022-06-01</td>\n",
       "      <td>2023-05-31</td>\n",
       "      <td>Smart</td>\n",
       "    </tr>\n",
       "  </tbody>\n",
       "</table>\n",
       "</div>"
      ],
      "text/plain": [
       "       policyId policyStatus   saleDate policyStartDate policyEndDate  \\\n",
       "21045   21347.0       ACTIVE 2022-07-28      2023-07-29    2024-07-28   \n",
       "10171   10274.0     CANCELED 2021-10-11      2021-12-01    2022-11-30   \n",
       "9623     9723.0     CANCELED 2021-09-23      2021-09-23    2022-09-22   \n",
       "15588   15820.0     CANCELED 2022-03-14      2023-03-14    2024-03-13   \n",
       "11019   11124.0          NaN 2021-11-09      2022-06-12    2023-06-11   \n",
       "38343   38918.0     CANCELED 2023-08-18      2023-08-18    2024-08-17   \n",
       "37174   37742.0     CANCELED 2023-07-24      2023-07-24    2024-07-23   \n",
       "15500   15730.0     CANCELED 2022-03-10      2022-04-03    2023-04-02   \n",
       "28339   28716.0       ACTIVE 2023-01-23      2023-01-23    2024-01-22   \n",
       "12572   12781.0          NaN 2021-12-22      2022-01-30    2023-01-29   \n",
       "31001   31472.0       ACTIVE 2023-03-07      2023-03-07    2024-03-06   \n",
       "17115   17368.0     CANCELED 2022-04-27      2022-06-01    2023-05-31   \n",
       "\n",
       "      tipoPoliza  \n",
       "21045      Smart  \n",
       "10171      Smart  \n",
       "9623       Smart  \n",
       "15588      Smart  \n",
       "11019       Flex  \n",
       "38343      Smart  \n",
       "37174      Smart  \n",
       "15500      Smart  \n",
       "28339      Smart  \n",
       "12572       Flex  \n",
       "31001      Smart  \n",
       "17115      Smart  "
      ]
     },
     "execution_count": 14,
     "metadata": {},
     "output_type": "execute_result"
    }
   ],
   "source": [
    "file = \"C:/Users/María Moya/Documents/GitHub/PROJECT_EDA_JOAQUINVILLAR_ONLINE_DS_THEBRIDGE/src/data/Hello_Auto_data.xlsx\"\n",
    "\n",
    "df_policies = pd.read_excel(file)\n",
    "df_policies\n",
    "df_policies.sample(12)"
   ]
  },
  {
   "cell_type": "code",
   "execution_count": 15,
   "metadata": {},
   "outputs": [
    {
     "name": "stdout",
     "output_type": "stream",
     "text": [
      "<class 'pandas.core.frame.DataFrame'>\n",
      "RangeIndex: 44428 entries, 0 to 44427\n",
      "Data columns (total 6 columns):\n",
      " #   Column           Non-Null Count  Dtype         \n",
      "---  ------           --------------  -----         \n",
      " 0   policyId         44174 non-null  float64       \n",
      " 1   policyStatus     41135 non-null  object        \n",
      " 2   saleDate         44174 non-null  datetime64[ns]\n",
      " 3   policyStartDate  44174 non-null  datetime64[ns]\n",
      " 4   policyEndDate    44174 non-null  datetime64[ns]\n",
      " 5   tipoPoliza       44174 non-null  object        \n",
      "dtypes: datetime64[ns](3), float64(1), object(2)\n",
      "memory usage: 2.0+ MB\n"
     ]
    }
   ],
   "source": [
    "df_policies.info()"
   ]
  },
  {
   "cell_type": "code",
   "execution_count": 16,
   "metadata": {},
   "outputs": [
    {
     "data": {
      "text/plain": [
       "np.int64(254)"
      ]
     },
     "execution_count": 16,
     "metadata": {},
     "output_type": "execute_result"
    }
   ],
   "source": [
    "df_policies.duplicated(keep=False).sum() # Filas duplicadas del DF"
   ]
  },
  {
   "cell_type": "code",
   "execution_count": 17,
   "metadata": {},
   "outputs": [],
   "source": [
    "df_policies_cleaned = df_policies.drop_duplicates()"
   ]
  },
  {
   "cell_type": "code",
   "execution_count": 18,
   "metadata": {},
   "outputs": [
    {
     "data": {
      "text/plain": [
       "np.int64(0)"
      ]
     },
     "execution_count": 18,
     "metadata": {},
     "output_type": "execute_result"
    }
   ],
   "source": [
    "df_policies_cleaned.duplicated(keep=False).sum()"
   ]
  },
  {
   "cell_type": "code",
   "execution_count": 19,
   "metadata": {},
   "outputs": [
    {
     "data": {
      "text/plain": [
       "policyStatus\n",
       "CANCELED    28121\n",
       "ACTIVE      12662\n",
       "REVISION      352\n",
       "Name: count, dtype: int64"
      ]
     },
     "execution_count": 19,
     "metadata": {},
     "output_type": "execute_result"
    }
   ],
   "source": [
    "df_policies_cleaned.policyStatus.value_counts()"
   ]
  },
  {
   "cell_type": "code",
   "execution_count": 20,
   "metadata": {},
   "outputs": [
    {
     "data": {
      "text/plain": [
       "tipoPoliza\n",
       "Smart    39406\n",
       "Flex      4768\n",
       "Name: count, dtype: int64"
      ]
     },
     "execution_count": 20,
     "metadata": {},
     "output_type": "execute_result"
    }
   ],
   "source": [
    "df_policies_cleaned.tipoPoliza.value_counts()"
   ]
  },
  {
   "cell_type": "markdown",
   "metadata": {},
   "source": [
    "# Análisis Univariante\n",
    "1.1. Evolución temporal de altas y bajas: gráfico para observar tendencias \\\n",
    "1.2. Distribución del tipo de pólizas: Smart y Flex"
   ]
  },
  {
   "cell_type": "code",
   "execution_count": null,
   "metadata": {},
   "outputs": [],
   "source": []
  },
  {
   "cell_type": "code",
   "execution_count": null,
   "metadata": {},
   "outputs": [],
   "source": []
  },
  {
   "cell_type": "code",
   "execution_count": null,
   "metadata": {},
   "outputs": [],
   "source": []
  },
  {
   "cell_type": "code",
   "execution_count": null,
   "metadata": {},
   "outputs": [],
   "source": []
  },
  {
   "cell_type": "code",
   "execution_count": null,
   "metadata": {},
   "outputs": [],
   "source": []
  },
  {
   "cell_type": "code",
   "execution_count": null,
   "metadata": {},
   "outputs": [],
   "source": []
  },
  {
   "cell_type": "code",
   "execution_count": null,
   "metadata": {},
   "outputs": [],
   "source": []
  },
  {
   "cell_type": "code",
   "execution_count": null,
   "metadata": {},
   "outputs": [],
   "source": []
  },
  {
   "cell_type": "code",
   "execution_count": null,
   "metadata": {},
   "outputs": [],
   "source": []
  },
  {
   "cell_type": "code",
   "execution_count": null,
   "metadata": {},
   "outputs": [],
   "source": []
  },
  {
   "cell_type": "code",
   "execution_count": null,
   "metadata": {},
   "outputs": [],
   "source": []
  },
  {
   "cell_type": "code",
   "execution_count": null,
   "metadata": {},
   "outputs": [],
   "source": []
  },
  {
   "cell_type": "code",
   "execution_count": null,
   "metadata": {},
   "outputs": [],
   "source": []
  },
  {
   "cell_type": "code",
   "execution_count": null,
   "metadata": {},
   "outputs": [],
   "source": []
  },
  {
   "cell_type": "code",
   "execution_count": null,
   "metadata": {},
   "outputs": [],
   "source": []
  }
 ],
 "metadata": {
  "kernelspec": {
   "display_name": "Python 3",
   "language": "python",
   "name": "python3"
  },
  "language_info": {
   "codemirror_mode": {
    "name": "ipython",
    "version": 3
   },
   "file_extension": ".py",
   "mimetype": "text/x-python",
   "name": "python",
   "nbconvert_exporter": "python",
   "pygments_lexer": "ipython3",
   "version": "3.13.0"
  }
 },
 "nbformat": 4,
 "nbformat_minor": 2
}
