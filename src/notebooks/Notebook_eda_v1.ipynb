{
 "cells": [
  {
   "cell_type": "markdown",
   "metadata": {},
   "source": [
    "# Data Cleaning"
   ]
  },
  {
   "cell_type": "code",
   "execution_count": 35,
   "metadata": {},
   "outputs": [],
   "source": [
    "import numpy as np\n",
    "import pandas as pd"
   ]
  },
  {
   "cell_type": "code",
   "execution_count": 36,
   "metadata": {},
   "outputs": [
    {
     "data": {
      "text/html": [
       "<div>\n",
       "<style scoped>\n",
       "    .dataframe tbody tr th:only-of-type {\n",
       "        vertical-align: middle;\n",
       "    }\n",
       "\n",
       "    .dataframe tbody tr th {\n",
       "        vertical-align: top;\n",
       "    }\n",
       "\n",
       "    .dataframe thead th {\n",
       "        text-align: right;\n",
       "    }\n",
       "</style>\n",
       "<table border=\"1\" class=\"dataframe\">\n",
       "  <thead>\n",
       "    <tr style=\"text-align: right;\">\n",
       "      <th></th>\n",
       "      <th>policyId</th>\n",
       "      <th>policyStatus</th>\n",
       "      <th>policyStartDate</th>\n",
       "      <th>policyEndDate</th>\n",
       "      <th>tipoPoliza</th>\n",
       "    </tr>\n",
       "  </thead>\n",
       "  <tbody>\n",
       "    <tr>\n",
       "      <th>40226</th>\n",
       "      <td>40822.0</td>\n",
       "      <td>CANCELED</td>\n",
       "      <td>2023-10-02</td>\n",
       "      <td>2024-10-01</td>\n",
       "      <td>Smart</td>\n",
       "    </tr>\n",
       "    <tr>\n",
       "      <th>39214</th>\n",
       "      <td>39801.0</td>\n",
       "      <td>ACTIVE</td>\n",
       "      <td>2023-09-22</td>\n",
       "      <td>2024-09-21</td>\n",
       "      <td>Smart</td>\n",
       "    </tr>\n",
       "    <tr>\n",
       "      <th>36263</th>\n",
       "      <td>36823.0</td>\n",
       "      <td>ACTIVE</td>\n",
       "      <td>2023-07-03</td>\n",
       "      <td>2024-07-02</td>\n",
       "      <td>Smart</td>\n",
       "    </tr>\n",
       "    <tr>\n",
       "      <th>15827</th>\n",
       "      <td>16068.0</td>\n",
       "      <td>CANCELED</td>\n",
       "      <td>2022-03-22</td>\n",
       "      <td>2023-03-21</td>\n",
       "      <td>Smart</td>\n",
       "    </tr>\n",
       "    <tr>\n",
       "      <th>24499</th>\n",
       "      <td>24818.0</td>\n",
       "      <td>ACTIVE</td>\n",
       "      <td>2023-10-20</td>\n",
       "      <td>2024-10-19</td>\n",
       "      <td>Smart</td>\n",
       "    </tr>\n",
       "    <tr>\n",
       "      <th>15086</th>\n",
       "      <td>15314.0</td>\n",
       "      <td>CANCELED</td>\n",
       "      <td>2022-03-02</td>\n",
       "      <td>2023-03-01</td>\n",
       "      <td>Smart</td>\n",
       "    </tr>\n",
       "    <tr>\n",
       "      <th>26755</th>\n",
       "      <td>27102.0</td>\n",
       "      <td>CANCELED</td>\n",
       "      <td>2023-02-01</td>\n",
       "      <td>2024-01-31</td>\n",
       "      <td>Smart</td>\n",
       "    </tr>\n",
       "    <tr>\n",
       "      <th>28177</th>\n",
       "      <td>28554.0</td>\n",
       "      <td>ACTIVE</td>\n",
       "      <td>2023-02-13</td>\n",
       "      <td>2024-02-12</td>\n",
       "      <td>Smart</td>\n",
       "    </tr>\n",
       "    <tr>\n",
       "      <th>30830</th>\n",
       "      <td>31300.0</td>\n",
       "      <td>ACTIVE</td>\n",
       "      <td>2023-03-06</td>\n",
       "      <td>2024-03-05</td>\n",
       "      <td>Smart</td>\n",
       "    </tr>\n",
       "    <tr>\n",
       "      <th>26472</th>\n",
       "      <td>26813.0</td>\n",
       "      <td>CANCELED</td>\n",
       "      <td>2023-12-08</td>\n",
       "      <td>2024-12-07</td>\n",
       "      <td>Smart</td>\n",
       "    </tr>\n",
       "    <tr>\n",
       "      <th>39339</th>\n",
       "      <td>39927.0</td>\n",
       "      <td>CANCELED</td>\n",
       "      <td>2023-09-12</td>\n",
       "      <td>2024-09-11</td>\n",
       "      <td>Smart</td>\n",
       "    </tr>\n",
       "    <tr>\n",
       "      <th>10201</th>\n",
       "      <td>10304.0</td>\n",
       "      <td>CANCELED</td>\n",
       "      <td>2021-10-13</td>\n",
       "      <td>2022-10-12</td>\n",
       "      <td>Flex</td>\n",
       "    </tr>\n",
       "  </tbody>\n",
       "</table>\n",
       "</div>"
      ],
      "text/plain": [
       "       policyId policyStatus policyStartDate policyEndDate tipoPoliza\n",
       "40226   40822.0     CANCELED      2023-10-02    2024-10-01      Smart\n",
       "39214   39801.0       ACTIVE      2023-09-22    2024-09-21      Smart\n",
       "36263   36823.0       ACTIVE      2023-07-03    2024-07-02      Smart\n",
       "15827   16068.0     CANCELED      2022-03-22    2023-03-21      Smart\n",
       "24499   24818.0       ACTIVE      2023-10-20    2024-10-19      Smart\n",
       "15086   15314.0     CANCELED      2022-03-02    2023-03-01      Smart\n",
       "26755   27102.0     CANCELED      2023-02-01    2024-01-31      Smart\n",
       "28177   28554.0       ACTIVE      2023-02-13    2024-02-12      Smart\n",
       "30830   31300.0       ACTIVE      2023-03-06    2024-03-05      Smart\n",
       "26472   26813.0     CANCELED      2023-12-08    2024-12-07      Smart\n",
       "39339   39927.0     CANCELED      2023-09-12    2024-09-11      Smart\n",
       "10201   10304.0     CANCELED      2021-10-13    2022-10-12       Flex"
      ]
     },
     "execution_count": 36,
     "metadata": {},
     "output_type": "execute_result"
    }
   ],
   "source": [
    "file = \"C:/Users/María Moya/Documents/GitHub/PROJECT_EDA_JOAQUINVILLAR_ONLINE_DS_THEBRIDGE/src/data/Hello_Auto_data.xlsx\"\n",
    "\n",
    "df_policies = pd.read_excel(file)\n",
    "df_policies\n",
    "df_policies.sample(12)"
   ]
  },
  {
   "cell_type": "code",
   "execution_count": 37,
   "metadata": {},
   "outputs": [
    {
     "name": "stdout",
     "output_type": "stream",
     "text": [
      "<class 'pandas.core.frame.DataFrame'>\n",
      "RangeIndex: 44427 entries, 0 to 44426\n",
      "Data columns (total 5 columns):\n",
      " #   Column           Non-Null Count  Dtype         \n",
      "---  ------           --------------  -----         \n",
      " 0   policyId         44174 non-null  float64       \n",
      " 1   policyStatus     44174 non-null  object        \n",
      " 2   policyStartDate  44174 non-null  datetime64[ns]\n",
      " 3   policyEndDate    44174 non-null  datetime64[ns]\n",
      " 4   tipoPoliza       44174 non-null  object        \n",
      "dtypes: datetime64[ns](2), float64(1), object(2)\n",
      "memory usage: 1.7+ MB\n"
     ]
    }
   ],
   "source": [
    "df_policies.info()"
   ]
  },
  {
   "cell_type": "markdown",
   "metadata": {},
   "source": [
    "| Column          | Description  |\n",
    "|-----------------|-----------------|\n",
    "| policyId        | Número de identificación de póliza contratada| \n",
    "| policyStatus    | Estado de la póliza| \n",
    "| policyStartDate | Inicio de póliza| \n",
    "| policyEndDate   | Final de póliza|\n",
    "| tipoPoliza      | Tipo de póliza contratada| \n"
   ]
  },
  {
   "cell_type": "code",
   "execution_count": 38,
   "metadata": {},
   "outputs": [
    {
     "data": {
      "text/plain": [
       "np.int64(253)"
      ]
     },
     "execution_count": 38,
     "metadata": {},
     "output_type": "execute_result"
    }
   ],
   "source": [
    "df_policies.duplicated(keep= False).sum() # Filas duplicadas del DF"
   ]
  },
  {
   "cell_type": "code",
   "execution_count": 39,
   "metadata": {},
   "outputs": [],
   "source": [
    "df_policies_cleaned = df_policies.drop_duplicates(keep = 'first')"
   ]
  },
  {
   "cell_type": "code",
   "execution_count": 40,
   "metadata": {},
   "outputs": [
    {
     "data": {
      "text/plain": [
       "np.int64(0)"
      ]
     },
     "execution_count": 40,
     "metadata": {},
     "output_type": "execute_result"
    }
   ],
   "source": [
    "df_policies_cleaned.duplicated(keep=False).sum()"
   ]
  },
  {
   "cell_type": "code",
   "execution_count": 41,
   "metadata": {},
   "outputs": [
    {
     "data": {
      "text/plain": [
       "policyStatus\n",
       "CANCELED    30847\n",
       "ACTIVE      13327\n",
       "Name: count, dtype: int64"
      ]
     },
     "execution_count": 41,
     "metadata": {},
     "output_type": "execute_result"
    }
   ],
   "source": [
    "df_policies_cleaned.policyStatus.value_counts()"
   ]
  },
  {
   "cell_type": "code",
   "execution_count": 42,
   "metadata": {},
   "outputs": [
    {
     "data": {
      "text/plain": [
       "tipoPoliza\n",
       "Smart    39406\n",
       "Flex      4768\n",
       "Name: count, dtype: int64"
      ]
     },
     "execution_count": 42,
     "metadata": {},
     "output_type": "execute_result"
    }
   ],
   "source": [
    "df_policies_cleaned.tipoPoliza.value_counts()"
   ]
  },
  {
   "cell_type": "code",
   "execution_count": 43,
   "metadata": {},
   "outputs": [
    {
     "data": {
      "text/plain": [
       "policyId           1\n",
       "policyStatus       1\n",
       "policyStartDate    1\n",
       "policyEndDate      1\n",
       "tipoPoliza         1\n",
       "dtype: int64"
      ]
     },
     "execution_count": 43,
     "metadata": {},
     "output_type": "execute_result"
    }
   ],
   "source": [
    "df_policies_cleaned.isnull().sum()"
   ]
  },
  {
   "cell_type": "markdown",
   "metadata": {},
   "source": [
    "# Análisis Univariante"
   ]
  },
  {
   "cell_type": "code",
   "execution_count": 44,
   "metadata": {},
   "outputs": [
    {
     "data": {
      "text/html": [
       "<div>\n",
       "<style scoped>\n",
       "    .dataframe tbody tr th:only-of-type {\n",
       "        vertical-align: middle;\n",
       "    }\n",
       "\n",
       "    .dataframe tbody tr th {\n",
       "        vertical-align: top;\n",
       "    }\n",
       "\n",
       "    .dataframe thead th {\n",
       "        text-align: right;\n",
       "    }\n",
       "</style>\n",
       "<table border=\"1\" class=\"dataframe\">\n",
       "  <thead>\n",
       "    <tr style=\"text-align: right;\">\n",
       "      <th></th>\n",
       "      <th>Card</th>\n",
       "      <th>%_Card</th>\n",
       "      <th>Tipo</th>\n",
       "    </tr>\n",
       "  </thead>\n",
       "  <tbody>\n",
       "    <tr>\n",
       "      <th>policyId</th>\n",
       "      <td>44174</td>\n",
       "      <td>99.997736</td>\n",
       "      <td>float64</td>\n",
       "    </tr>\n",
       "    <tr>\n",
       "      <th>policyStatus</th>\n",
       "      <td>2</td>\n",
       "      <td>0.004527</td>\n",
       "      <td>object</td>\n",
       "    </tr>\n",
       "    <tr>\n",
       "      <th>policyStartDate</th>\n",
       "      <td>1316</td>\n",
       "      <td>2.979061</td>\n",
       "      <td>datetime64[ns]</td>\n",
       "    </tr>\n",
       "    <tr>\n",
       "      <th>policyEndDate</th>\n",
       "      <td>1317</td>\n",
       "      <td>2.981324</td>\n",
       "      <td>datetime64[ns]</td>\n",
       "    </tr>\n",
       "    <tr>\n",
       "      <th>tipoPoliza</th>\n",
       "      <td>2</td>\n",
       "      <td>0.004527</td>\n",
       "      <td>object</td>\n",
       "    </tr>\n",
       "  </tbody>\n",
       "</table>\n",
       "</div>"
      ],
      "text/plain": [
       "                  Card     %_Card            Tipo\n",
       "policyId         44174  99.997736         float64\n",
       "policyStatus         2   0.004527          object\n",
       "policyStartDate   1316   2.979061  datetime64[ns]\n",
       "policyEndDate     1317   2.981324  datetime64[ns]\n",
       "tipoPoliza           2   0.004527          object"
      ]
     },
     "execution_count": 44,
     "metadata": {},
     "output_type": "execute_result"
    }
   ],
   "source": [
    "# Selección\n",
    "df_tipificacion = pd.DataFrame([df_policies_cleaned.nunique(), df_policies_cleaned.nunique()/len(df_policies_cleaned) * 100, df_policies_cleaned.dtypes]).T.rename(columns = {0: \"Card\",\\\n",
    "                                                                                                                                 1: \"%_Card\", 2: \"Tipo\"})\n",
    "df_tipificacion"
   ]
  },
  {
   "cell_type": "code",
   "execution_count": 45,
   "metadata": {},
   "outputs": [
    {
     "data": {
      "text/html": [
       "<div>\n",
       "<style scoped>\n",
       "    .dataframe tbody tr th:only-of-type {\n",
       "        vertical-align: middle;\n",
       "    }\n",
       "\n",
       "    .dataframe tbody tr th {\n",
       "        vertical-align: top;\n",
       "    }\n",
       "\n",
       "    .dataframe thead th {\n",
       "        text-align: right;\n",
       "    }\n",
       "</style>\n",
       "<table border=\"1\" class=\"dataframe\">\n",
       "  <thead>\n",
       "    <tr style=\"text-align: right;\">\n",
       "      <th></th>\n",
       "      <th>Card</th>\n",
       "      <th>%_Card</th>\n",
       "      <th>Tipo</th>\n",
       "      <th>Clasificada_como</th>\n",
       "    </tr>\n",
       "  </thead>\n",
       "  <tbody>\n",
       "    <tr>\n",
       "      <th>policyId</th>\n",
       "      <td>44174</td>\n",
       "      <td>99.997736</td>\n",
       "      <td>float64</td>\n",
       "      <td>Numerica Continua</td>\n",
       "    </tr>\n",
       "    <tr>\n",
       "      <th>policyStatus</th>\n",
       "      <td>2</td>\n",
       "      <td>0.004527</td>\n",
       "      <td>object</td>\n",
       "      <td>Binaria</td>\n",
       "    </tr>\n",
       "    <tr>\n",
       "      <th>policyStartDate</th>\n",
       "      <td>1316</td>\n",
       "      <td>2.979061</td>\n",
       "      <td>datetime64[ns]</td>\n",
       "      <td>Numerica Discreta</td>\n",
       "    </tr>\n",
       "    <tr>\n",
       "      <th>policyEndDate</th>\n",
       "      <td>1317</td>\n",
       "      <td>2.981324</td>\n",
       "      <td>datetime64[ns]</td>\n",
       "      <td>Numerica Discreta</td>\n",
       "    </tr>\n",
       "    <tr>\n",
       "      <th>tipoPoliza</th>\n",
       "      <td>2</td>\n",
       "      <td>0.004527</td>\n",
       "      <td>object</td>\n",
       "      <td>Binaria</td>\n",
       "    </tr>\n",
       "  </tbody>\n",
       "</table>\n",
       "</div>"
      ],
      "text/plain": [
       "                  Card     %_Card            Tipo   Clasificada_como\n",
       "policyId         44174  99.997736         float64  Numerica Continua\n",
       "policyStatus         2   0.004527          object            Binaria\n",
       "policyStartDate   1316   2.979061  datetime64[ns]  Numerica Discreta\n",
       "policyEndDate     1317   2.981324  datetime64[ns]  Numerica Discreta\n",
       "tipoPoliza           2   0.004527          object            Binaria"
      ]
     },
     "execution_count": 45,
     "metadata": {},
     "output_type": "execute_result"
    }
   ],
   "source": [
    "df_tipificacion[\"Clasificada_como\"] = \"Categorica\" # PArtiendo de que casi todas parecen categóricas\n",
    "df_tipificacion.loc[df_tipificacion.Card == 2, \"Clasificada_como\"] = \"Binaria\"\n",
    "df_tipificacion.loc[df_tipificacion[\"Card\"] > 10, \"Clasificada_como\"] =\"Numerica Discreta\"\n",
    "df_tipificacion.loc[df_tipificacion[\"%_Card\"] > 30, \"Clasificada_como\"] = \"Numerica Continua\"\n",
    "df_tipificacion"
   ]
  },
  {
   "cell_type": "code",
   "execution_count": 46,
   "metadata": {},
   "outputs": [],
   "source": [
    "import matplotlib.pyplot as plt\n",
    "import seaborn as sns"
   ]
  },
  {
   "cell_type": "code",
   "execution_count": 47,
   "metadata": {},
   "outputs": [],
   "source": [
    "def pinta_distribucion_categoricas(df, columnas_categoricas, relativa=False, mostrar_valores=False):\n",
    "    num_columnas = len(columnas_categoricas)\n",
    "    num_filas = (num_columnas // 2) + (num_columnas % 2)\n",
    "\n",
    "    fig, axes = plt.subplots(num_filas, 2, figsize=(15, 5 * num_filas))\n",
    "    axes = axes.flatten() \n",
    "\n",
    "    for i, col in enumerate(columnas_categoricas):\n",
    "        ax = axes[i]\n",
    "        if relativa:\n",
    "            total = df[col].value_counts().sum()\n",
    "            serie = df[col].value_counts().apply(lambda x: x / total)\n",
    "            sns.barplot(x=serie.index, y=serie, ax=ax, palette='viridis', hue = serie.index, legend = False)\n",
    "            ax.set_ylabel('Frecuencia Relativa')\n",
    "        else:\n",
    "            serie = df[col].value_counts()\n",
    "            sns.barplot(x=serie.index, y=serie, ax=ax, palette='viridis', hue = serie.index, legend = False)\n",
    "            ax.set_ylabel('Frecuencia')\n",
    "\n",
    "        ax.set_title(f'Distribución de {col}')\n",
    "        ax.set_xlabel('')\n",
    "        ax.tick_params(axis='x', rotation=45)\n",
    "\n",
    "        if mostrar_valores:\n",
    "            for p in ax.patches:\n",
    "                height = p.get_height()\n",
    "                ax.annotate(f'{height:.2f}', (p.get_x() + p.get_width() / 2., height), \n",
    "                            ha='center', va='center', xytext=(0, 9), textcoords='offset points')\n",
    "\n",
    "    for j in range(i + 1, num_filas * 2):\n",
    "        axes[j].axis('off')\n",
    "\n",
    "    plt.tight_layout()\n",
    "    plt.show()"
   ]
  },
  {
   "cell_type": "code",
   "execution_count": 48,
   "metadata": {},
   "outputs": [],
   "source": [
    "categoricas_p = [\"policyStatus\", \"tipoPoliza\"]"
   ]
  },
  {
   "cell_type": "code",
   "execution_count": 49,
   "metadata": {},
   "outputs": [
    {
     "name": "stdout",
     "output_type": "stream",
     "text": [
      "ParapolicyStatus\n",
      "policyStatus\n",
      "CANCELED    30847\n",
      "ACTIVE      13327\n",
      "Name: count, dtype: int64\n",
      "\n",
      "\n",
      "\n",
      "ParatipoPoliza\n",
      "tipoPoliza\n",
      "Smart    39406\n",
      "Flex      4768\n",
      "Name: count, dtype: int64\n",
      "\n",
      "\n",
      "\n"
     ]
    }
   ],
   "source": [
    "# Frecuencia Absoluta\n",
    "for i in categoricas_p:\n",
    "    print(f\"Para{i}\")\n",
    "    print(df_policies_cleaned[i].value_counts())\n",
    "    print(\"\\n\"*2)"
   ]
  },
  {
   "cell_type": "code",
   "execution_count": 50,
   "metadata": {},
   "outputs": [
    {
     "data": {
      "image/png": "[encoded data removed]",
      "text/plain": [
       "<Figure size 1500x500 with 2 Axes>"
      ]
     },
     "metadata": {},
     "output_type": "display_data"
    }
   ],
   "source": [
    "pinta_distribucion_categoricas(df_policies_cleaned, categoricas_p)"
   ]
  },
  {
   "cell_type": "code",
   "execution_count": 51,
   "metadata": {},
   "outputs": [
    {
     "name": "stdout",
     "output_type": "stream",
     "text": [
      "ParapolicyStatus\n",
      "policyStatus\n",
      "CANCELED    69.829089\n",
      "ACTIVE      30.168647\n",
      "Name: count, dtype: float64\n",
      "\n",
      "\n",
      "\n",
      "ParatipoPoliza\n",
      "tipoPoliza\n",
      "Smart    89.204301\n",
      "Flex     10.793435\n",
      "Name: count, dtype: float64\n",
      "\n",
      "\n",
      "\n"
     ]
    }
   ],
   "source": [
    "# Frecuencia Relativa\n",
    "for i in categoricas_p:\n",
    "    print(f\"Para{i}\")\n",
    "    print(df_policies_cleaned[i].value_counts()/len(df_policies_cleaned)*100)\n",
    "    print(\"\\n\"*2)"
   ]
  },
  {
   "cell_type": "code",
   "execution_count": 52,
   "metadata": {},
   "outputs": [
    {
     "data": {
      "image/png": "[encoded data removed]",
      "text/plain": [
       "<Figure size 1500x500 with 2 Axes>"
      ]
     },
     "metadata": {},
     "output_type": "display_data"
    }
   ],
   "source": [
    "pinta_distribucion_categoricas(df_policies_cleaned, categoricas_p, relativa=True)"
   ]
  },
  {
   "cell_type": "markdown",
   "metadata": {},
   "source": [
    "# Análisis Bivariante"
   ]
  },
  {
   "cell_type": "code",
   "execution_count": 53,
   "metadata": {},
   "outputs": [],
   "source": [
    "from bootcampviztools import plot_categorical_relationship_fin, pinta_distribucion_categoricas"
   ]
  },
  {
   "cell_type": "code",
   "execution_count": 54,
   "metadata": {},
   "outputs": [
    {
     "data": {
      "image/png": "[encoded data removed]",
      "text/plain": [
       "<Figure size 1000x600 with 1 Axes>"
      ]
     },
     "metadata": {},
     "output_type": "display_data"
    }
   ],
   "source": [
    "plot_categorical_relationship_fin(df_policies_cleaned, \"policyStatus\",\"tipoPoliza\", relative_freq = True, show_values = True)"
   ]
  },
  {
   "cell_type": "code",
   "execution_count": null,
   "metadata": {},
   "outputs": [],
   "source": []
  },
  {
   "cell_type": "code",
   "execution_count": null,
   "metadata": {},
   "outputs": [],
   "source": []
  }
 ],
 "metadata": {
  "kernelspec": {
   "display_name": "Python 3",
   "language": "python",
   "name": "python3"
  },
  "language_info": {
   "codemirror_mode": {
    "name": "ipython",
    "version": 3
   },
   "file_extension": ".py",
   "mimetype": "text/x-python",
   "name": "python",
   "nbconvert_exporter": "python",
   "pygments_lexer": "ipython3",
   "version": "3.13.0"
  }
 },
 "nbformat": 4,
 "nbformat_minor": 2
}
