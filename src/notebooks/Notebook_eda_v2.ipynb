{
 "cells": [
  {
   "cell_type": "markdown",
   "metadata": {},
   "source": [
    "# Data Cleaning"
   ]
  },
  {
   "cell_type": "code",
   "execution_count": 35,
   "metadata": {},
   "outputs": [],
   "source": [
    "import numpy as np\n",
    "import pandas as pd"
   ]
  },
  {
   "cell_type": "code",
   "execution_count": 36,
   "metadata": {},
   "outputs": [
    {
     "data": {
      "text/html": [
       "<div>\n",
       "<style scoped>\n",
       "    .dataframe tbody tr th:only-of-type {\n",
       "        vertical-align: middle;\n",
       "    }\n",
       "\n",
       "    .dataframe tbody tr th {\n",
       "        vertical-align: top;\n",
       "    }\n",
       "\n",
       "    .dataframe thead th {\n",
       "        text-align: right;\n",
       "    }\n",
       "</style>\n",
       "<table border=\"1\" class=\"dataframe\">\n",
       "  <thead>\n",
       "    <tr style=\"text-align: right;\">\n",
       "      <th></th>\n",
       "      <th>policyId</th>\n",
       "      <th>customerId</th>\n",
       "      <th>age</th>\n",
       "      <th>province</th>\n",
       "    </tr>\n",
       "  </thead>\n",
       "  <tbody>\n",
       "    <tr>\n",
       "      <th>64328</th>\n",
       "      <td>10735</td>\n",
       "      <td>179949</td>\n",
       "      <td>60.0</td>\n",
       "      <td>LÉRIDA</td>\n",
       "    </tr>\n",
       "    <tr>\n",
       "      <th>91618</th>\n",
       "      <td>15564</td>\n",
       "      <td>10729</td>\n",
       "      <td>41.0</td>\n",
       "      <td>MADRID</td>\n",
       "    </tr>\n",
       "    <tr>\n",
       "      <th>187836</th>\n",
       "      <td>37674</td>\n",
       "      <td>1622288</td>\n",
       "      <td>51.0</td>\n",
       "      <td>CÁDIZ</td>\n",
       "    </tr>\n",
       "    <tr>\n",
       "      <th>4650</th>\n",
       "      <td>672</td>\n",
       "      <td>1454</td>\n",
       "      <td>53.0</td>\n",
       "      <td>SEVILLA</td>\n",
       "    </tr>\n",
       "    <tr>\n",
       "      <th>165587</th>\n",
       "      <td>30927</td>\n",
       "      <td>158747</td>\n",
       "      <td>49.0</td>\n",
       "      <td>MÁLAGA</td>\n",
       "    </tr>\n",
       "    <tr>\n",
       "      <th>27789</th>\n",
       "      <td>4529</td>\n",
       "      <td>99388</td>\n",
       "      <td>43.0</td>\n",
       "      <td>CANTABRIA</td>\n",
       "    </tr>\n",
       "    <tr>\n",
       "      <th>134679</th>\n",
       "      <td>23661</td>\n",
       "      <td>1005464</td>\n",
       "      <td>33.0</td>\n",
       "      <td>SEVILLA</td>\n",
       "    </tr>\n",
       "    <tr>\n",
       "      <th>149926</th>\n",
       "      <td>26619</td>\n",
       "      <td>580112</td>\n",
       "      <td>47.0</td>\n",
       "      <td>CASTELLÓN</td>\n",
       "    </tr>\n",
       "    <tr>\n",
       "      <th>130463</th>\n",
       "      <td>22883</td>\n",
       "      <td>965226</td>\n",
       "      <td>42.0</td>\n",
       "      <td>ALMERÍA</td>\n",
       "    </tr>\n",
       "    <tr>\n",
       "      <th>77307</th>\n",
       "      <td>12947</td>\n",
       "      <td>194819</td>\n",
       "      <td>32.0</td>\n",
       "      <td>MADRID</td>\n",
       "    </tr>\n",
       "    <tr>\n",
       "      <th>156656</th>\n",
       "      <td>28171</td>\n",
       "      <td>1309280</td>\n",
       "      <td>35.0</td>\n",
       "      <td>BIZKAIA</td>\n",
       "    </tr>\n",
       "    <tr>\n",
       "      <th>190952</th>\n",
       "      <td>38611</td>\n",
       "      <td>100286</td>\n",
       "      <td>35.0</td>\n",
       "      <td>SEVILLA</td>\n",
       "    </tr>\n",
       "  </tbody>\n",
       "</table>\n",
       "</div>"
      ],
      "text/plain": [
       "        policyId  customerId   age    province\n",
       "64328      10735      179949  60.0      LÉRIDA\n",
       "91618      15564       10729  41.0      MADRID\n",
       "187836     37674     1622288  51.0       CÁDIZ\n",
       "4650         672        1454  53.0     SEVILLA\n",
       "165587     30927      158747  49.0      MÁLAGA\n",
       "27789       4529       99388  43.0  CANTABRIA \n",
       "134679     23661     1005464  33.0     SEVILLA\n",
       "149926     26619      580112  47.0   CASTELLÓN\n",
       "130463     22883      965226  42.0     ALMERÍA\n",
       "77307      12947      194819  32.0      MADRID\n",
       "156656     28171     1309280  35.0     BIZKAIA\n",
       "190952     38611      100286  35.0     SEVILLA"
      ]
     },
     "execution_count": 36,
     "metadata": {},
     "output_type": "execute_result"
    }
   ],
   "source": [
    "file = \"C:/Users/María Moya/Documents/GitHub/PROJECT_EDA_JOAQUINVILLAR_ONLINE_DS_THEBRIDGE/src/data/Hello_Auto_data.xlsx\"\n",
    "df_customers = pd.read_excel(file,sheet_name = \"Customers\")\n",
    "df_customers\n",
    "df_customers.sample(12)"
   ]
  },
  {
   "cell_type": "code",
   "execution_count": 37,
   "metadata": {},
   "outputs": [
    {
     "name": "stdout",
     "output_type": "stream",
     "text": [
      "<class 'pandas.core.frame.DataFrame'>\n",
      "RangeIndex: 211506 entries, 0 to 211505\n",
      "Data columns (total 4 columns):\n",
      " #   Column      Non-Null Count   Dtype  \n",
      "---  ------      --------------   -----  \n",
      " 0   policyId    211506 non-null  int64  \n",
      " 1   customerId  211506 non-null  int64  \n",
      " 2   age         209510 non-null  float64\n",
      " 3   province    211506 non-null  object \n",
      "dtypes: float64(1), int64(2), object(1)\n",
      "memory usage: 6.5+ MB\n"
     ]
    }
   ],
   "source": [
    "df_customers.info()"
   ]
  },
  {
   "cell_type": "markdown",
   "metadata": {},
   "source": [
    "| Column          | Description  |\n",
    "|-----------------|-----------------|\n",
    "| policyId        | Número de identificación de póliza contratada| \n",
    "| customerId   | Número de identificación del cliente| \n",
    "| age | Años del cliente al contratar la póliza| \n",
    "| province  | Provincia del cliente|\n"
   ]
  },
  {
   "cell_type": "code",
   "execution_count": 38,
   "metadata": {},
   "outputs": [
    {
     "data": {
      "text/plain": [
       "np.int64(208811)"
      ]
     },
     "execution_count": 38,
     "metadata": {},
     "output_type": "execute_result"
    }
   ],
   "source": [
    "#Duplicados\n",
    "df_customers.duplicated(keep=False).sum()"
   ]
  },
  {
   "cell_type": "code",
   "execution_count": 39,
   "metadata": {},
   "outputs": [],
   "source": [
    "df_customers_cleaned = df_customers.drop_duplicates(keep = 'first')"
   ]
  },
  {
   "cell_type": "code",
   "execution_count": 40,
   "metadata": {},
   "outputs": [
    {
     "data": {
      "text/plain": [
       "np.int64(0)"
      ]
     },
     "execution_count": 40,
     "metadata": {},
     "output_type": "execute_result"
    }
   ],
   "source": [
    "df_customers_cleaned.duplicated(keep=False).sum()"
   ]
  },
  {
   "cell_type": "code",
   "execution_count": 41,
   "metadata": {},
   "outputs": [
    {
     "data": {
      "text/plain": [
       "province\n",
       "MADRID                    12052\n",
       "SEVILLA                    5971\n",
       "BARCELONA                  5932\n",
       "MÁLAGA                     3291\n",
       "VALENCIA                   3268\n",
       "CÁDIZ                      3084\n",
       "MURCIA                     2823\n",
       "LAS PALMAS                 2149\n",
       "ALICANTE                   1937\n",
       "ALMERÍA                    1877\n",
       "TOLEDO                     1766\n",
       "GRANADA                    1444\n",
       "A CORUÑA                   1340\n",
       "BALEARES                   1275\n",
       "JAÉN                       1263\n",
       "BIZKAIA                    1105\n",
       "SANTA CRUZ DE TENERIFE     1086\n",
       "GERONA                      956\n",
       "TARRAGONA                   860\n",
       "ASTURIAS                    823\n",
       "CÓRDOBA                     785\n",
       "HUELVA                      770\n",
       "ZARAGOZA                    759\n",
       "PONTEVEDRA                  694\n",
       "VALLADOLID                  673\n",
       "GUADALAJARA                 669\n",
       "NAVARRA                     592\n",
       "LÉRIDA                      527\n",
       "CASTELLÓN                   506\n",
       "BADAJOZ                     445\n",
       "LEÓN                        438\n",
       "CANTABRIA                   424\n",
       "CIUDAD REAL                 386\n",
       "SALAMANCA                   313\n",
       "GUIPÚZCOA                   281\n",
       "LA RIOJA                    276\n",
       "LUGO                        251\n",
       "BURGOS                      233\n",
       "ORENSE                      203\n",
       "ÁLAVA                       193\n",
       "HUESCA                      181\n",
       "ALBACETE                    151\n",
       "SEGOVIA                     146\n",
       "ÁVILA                       146\n",
       "CÁCERES                     136\n",
       "ZAMORA                      114\n",
       "CUENCA                      100\n",
       "PALENCIA                     98\n",
       "SORIA                        62\n",
       "TERUEL                       45\n",
       "Name: count, dtype: int64"
      ]
     },
     "execution_count": 41,
     "metadata": {},
     "output_type": "execute_result"
    }
   ],
   "source": [
    "df_customers_cleaned.province.value_counts()"
   ]
  },
  {
   "cell_type": "code",
   "execution_count": 42,
   "metadata": {},
   "outputs": [
    {
     "data": {
      "text/plain": [
       "policyId        0\n",
       "customerId      0\n",
       "age           378\n",
       "province        0\n",
       "dtype: int64"
      ]
     },
     "execution_count": 42,
     "metadata": {},
     "output_type": "execute_result"
    }
   ],
   "source": [
    "#Valores nulos\n",
    "df_customers_cleaned.isna().sum()"
   ]
  },
  {
   "cell_type": "code",
   "execution_count": 43,
   "metadata": {},
   "outputs": [
    {
     "name": "stderr",
     "output_type": "stream",
     "text": [
      "C:\\Users\\María Moya\\AppData\\Local\\Temp\\ipykernel_4204\\4122328501.py:1: SettingWithCopyWarning: \n",
      "A value is trying to be set on a copy of a slice from a DataFrame\n",
      "\n",
      "See the caveats in the documentation: https://pandas.pydata.org/pandas-docs/stable/user_guide/indexing.html#returning-a-view-versus-a-copy\n",
      "  df_customers_cleaned.dropna(subset=['age'], how='all', inplace = True)\n"
     ]
    }
   ],
   "source": [
    "df_customers_cleaned.dropna(subset=['age'], how='all', inplace = True)"
   ]
  },
  {
   "cell_type": "code",
   "execution_count": 44,
   "metadata": {},
   "outputs": [
    {
     "data": {
      "text/plain": [
       "policyId      0\n",
       "customerId    0\n",
       "age           0\n",
       "province      0\n",
       "dtype: int64"
      ]
     },
     "execution_count": 44,
     "metadata": {},
     "output_type": "execute_result"
    }
   ],
   "source": [
    "df_customers_cleaned.isna().sum()"
   ]
  },
  {
   "cell_type": "markdown",
   "metadata": {},
   "source": [
    "# Análisis Univariante"
   ]
  },
  {
   "cell_type": "code",
   "execution_count": 45,
   "metadata": {},
   "outputs": [
    {
     "data": {
      "text/html": [
       "<div>\n",
       "<style scoped>\n",
       "    .dataframe tbody tr th:only-of-type {\n",
       "        vertical-align: middle;\n",
       "    }\n",
       "\n",
       "    .dataframe tbody tr th {\n",
       "        vertical-align: top;\n",
       "    }\n",
       "\n",
       "    .dataframe thead th {\n",
       "        text-align: right;\n",
       "    }\n",
       "</style>\n",
       "<table border=\"1\" class=\"dataframe\">\n",
       "  <thead>\n",
       "    <tr style=\"text-align: right;\">\n",
       "      <th></th>\n",
       "      <th>Card</th>\n",
       "      <th>%_Card</th>\n",
       "      <th>Tipo</th>\n",
       "    </tr>\n",
       "  </thead>\n",
       "  <tbody>\n",
       "    <tr>\n",
       "      <th>policyId</th>\n",
       "      <td>44070</td>\n",
       "      <td>68.303343</td>\n",
       "      <td>int64</td>\n",
       "    </tr>\n",
       "    <tr>\n",
       "      <th>customerId</th>\n",
       "      <td>31600</td>\n",
       "      <td>48.976302</td>\n",
       "      <td>int64</td>\n",
       "    </tr>\n",
       "    <tr>\n",
       "      <th>age</th>\n",
       "      <td>68</td>\n",
       "      <td>0.105392</td>\n",
       "      <td>float64</td>\n",
       "    </tr>\n",
       "    <tr>\n",
       "      <th>province</th>\n",
       "      <td>50</td>\n",
       "      <td>0.077494</td>\n",
       "      <td>object</td>\n",
       "    </tr>\n",
       "  </tbody>\n",
       "</table>\n",
       "</div>"
      ],
      "text/plain": [
       "             Card     %_Card     Tipo\n",
       "policyId    44070  68.303343    int64\n",
       "customerId  31600  48.976302    int64\n",
       "age            68   0.105392  float64\n",
       "province       50   0.077494   object"
      ]
     },
     "execution_count": 45,
     "metadata": {},
     "output_type": "execute_result"
    }
   ],
   "source": [
    "# Selección\n",
    "df_tipificacion = pd.DataFrame([df_customers_cleaned.nunique(), df_customers_cleaned.nunique()/len(df_customers_cleaned) * 100, df_customers_cleaned.dtypes]).T.rename(columns = {0: \"Card\",\\\n",
    "                                                                                                                                 1: \"%_Card\", 2: \"Tipo\"})\n",
    "df_tipificacion"
   ]
  },
  {
   "cell_type": "code",
   "execution_count": 46,
   "metadata": {},
   "outputs": [
    {
     "data": {
      "text/html": [
       "<div>\n",
       "<style scoped>\n",
       "    .dataframe tbody tr th:only-of-type {\n",
       "        vertical-align: middle;\n",
       "    }\n",
       "\n",
       "    .dataframe tbody tr th {\n",
       "        vertical-align: top;\n",
       "    }\n",
       "\n",
       "    .dataframe thead th {\n",
       "        text-align: right;\n",
       "    }\n",
       "</style>\n",
       "<table border=\"1\" class=\"dataframe\">\n",
       "  <thead>\n",
       "    <tr style=\"text-align: right;\">\n",
       "      <th></th>\n",
       "      <th>Card</th>\n",
       "      <th>%_Card</th>\n",
       "      <th>Tipo</th>\n",
       "      <th>Clasificada_como</th>\n",
       "    </tr>\n",
       "  </thead>\n",
       "  <tbody>\n",
       "    <tr>\n",
       "      <th>policyId</th>\n",
       "      <td>44070</td>\n",
       "      <td>68.303343</td>\n",
       "      <td>int64</td>\n",
       "      <td>Numerica Continua</td>\n",
       "    </tr>\n",
       "    <tr>\n",
       "      <th>customerId</th>\n",
       "      <td>31600</td>\n",
       "      <td>48.976302</td>\n",
       "      <td>int64</td>\n",
       "      <td>Numerica Continua</td>\n",
       "    </tr>\n",
       "    <tr>\n",
       "      <th>age</th>\n",
       "      <td>68</td>\n",
       "      <td>0.105392</td>\n",
       "      <td>float64</td>\n",
       "      <td>Numerica Discreta</td>\n",
       "    </tr>\n",
       "    <tr>\n",
       "      <th>province</th>\n",
       "      <td>50</td>\n",
       "      <td>0.077494</td>\n",
       "      <td>object</td>\n",
       "      <td>Numerica Discreta</td>\n",
       "    </tr>\n",
       "  </tbody>\n",
       "</table>\n",
       "</div>"
      ],
      "text/plain": [
       "             Card     %_Card     Tipo   Clasificada_como\n",
       "policyId    44070  68.303343    int64  Numerica Continua\n",
       "customerId  31600  48.976302    int64  Numerica Continua\n",
       "age            68   0.105392  float64  Numerica Discreta\n",
       "province       50   0.077494   object  Numerica Discreta"
      ]
     },
     "execution_count": 46,
     "metadata": {},
     "output_type": "execute_result"
    }
   ],
   "source": [
    "df_tipificacion[\"Clasificada_como\"] = \"Categorica\" # PArtiendo de que casi todas parecen categóricas\n",
    "df_tipificacion.loc[df_tipificacion.Card == 2, \"Clasificada_como\"] = \"Binaria\"\n",
    "df_tipificacion.loc[df_tipificacion[\"Card\"] > 10, \"Clasificada_como\"] =\"Numerica Discreta\"\n",
    "df_tipificacion.loc[df_tipificacion[\"%_Card\"] > 30, \"Clasificada_como\"] = \"Numerica Continua\"\n",
    "df_tipificacion"
   ]
  },
  {
   "cell_type": "code",
   "execution_count": 47,
   "metadata": {},
   "outputs": [
    {
     "data": {
      "text/plain": [
       "policyId       19617.365571\n",
       "customerId    650522.675222\n",
       "age               41.521520\n",
       "Name: mean, dtype: float64"
      ]
     },
     "execution_count": 47,
     "metadata": {},
     "output_type": "execute_result"
    }
   ],
   "source": [
    "df_customers_cleaned.describe().loc[\"mean\"]"
   ]
  },
  {
   "cell_type": "code",
   "execution_count": 48,
   "metadata": {},
   "outputs": [
    {
     "data": {
      "text/plain": [
       "policyId       18459.0\n",
       "customerId    479953.0\n",
       "age               41.0\n",
       "Name: 50%, dtype: float64"
      ]
     },
     "execution_count": 48,
     "metadata": {},
     "output_type": "execute_result"
    }
   ],
   "source": [
    "df_customers_cleaned.describe().loc[\"50%\"] # Mediana"
   ]
  },
  {
   "cell_type": "code",
   "execution_count": 49,
   "metadata": {},
   "outputs": [],
   "source": [
    "import matplotlib.pyplot as plt\n",
    "import seaborn as sns"
   ]
  },
  {
   "cell_type": "code",
   "execution_count": 50,
   "metadata": {},
   "outputs": [
    {
     "data": {
      "text/plain": [
       "province\n",
       "MADRID                    12031\n",
       "SEVILLA                    5967\n",
       "BARCELONA                  5931\n",
       "VALENCIA                   3267\n",
       "CÁDIZ                      3084\n",
       "MÁLAGA                     3022\n",
       "MURCIA                     2821\n",
       "LAS PALMAS                 2149\n",
       "ALICANTE                   1931\n",
       "ALMERÍA                    1877\n",
       "TOLEDO                     1766\n",
       "GRANADA                    1442\n",
       "A CORUÑA                   1338\n",
       "BALEARES                   1270\n",
       "JAÉN                       1204\n",
       "BIZKAIA                    1101\n",
       "SANTA CRUZ DE TENERIFE     1086\n",
       "GERONA                      956\n",
       "TARRAGONA                   860\n",
       "ASTURIAS                    823\n",
       "CÓRDOBA                     785\n",
       "HUELVA                      770\n",
       "ZARAGOZA                    759\n",
       "PONTEVEDRA                  694\n",
       "VALLADOLID                  673\n",
       "GUADALAJARA                 669\n",
       "NAVARRA                     592\n",
       "LÉRIDA                      527\n",
       "CASTELLÓN                   506\n",
       "BADAJOZ                     445\n",
       "LEÓN                        438\n",
       "CANTABRIA                   424\n",
       "CIUDAD REAL                 386\n",
       "SALAMANCA                   313\n",
       "GUIPÚZCOA                   280\n",
       "LA RIOJA                    276\n",
       "LUGO                        250\n",
       "BURGOS                      233\n",
       "ORENSE                      203\n",
       "ÁLAVA                       193\n",
       "HUESCA                      181\n",
       "ALBACETE                    151\n",
       "SEGOVIA                     146\n",
       "ÁVILA                       146\n",
       "CÁCERES                     136\n",
       "ZAMORA                      114\n",
       "CUENCA                      100\n",
       "PALENCIA                     98\n",
       "SORIA                        62\n",
       "TERUEL                       45\n",
       "Name: count, dtype: int64"
      ]
     },
     "execution_count": 50,
     "metadata": {},
     "output_type": "execute_result"
    }
   ],
   "source": [
    "# Frecuencia Absoluta\n",
    "df_customers_cleaned.province.value_counts()"
   ]
  },
  {
   "cell_type": "code",
   "execution_count": 51,
   "metadata": {},
   "outputs": [
    {
     "data": {
      "image/png": "[encoded data removed]",
      "text/plain": [
       "<Figure size 1000x600 with 1 Axes>"
      ]
     },
     "metadata": {},
     "output_type": "display_data"
    }
   ],
   "source": [
    "df_customers_cleaned.province.value_counts(ascending=False).head(12).plot(\n",
    "    kind=\"barh\", \n",
    "    figsize=(10, 6),  # Tamaño opcional de la gráfica\n",
    "    color=\"skyblue\",  # Color opcional\n",
    "    title=\"Top 12 Provincias Más Frecuentes\"\n",
    ")\n",
    "plt.xlabel(\"Frecuencia Absoluta\")\n",
    "plt.ylabel(\"Provincia\")\n",
    "plt.gca().invert_yaxis()  # Invertir eje Y para que el valor más alto esté arriba\n",
    "plt.show()"
   ]
  },
  {
   "cell_type": "code",
   "execution_count": 52,
   "metadata": {},
   "outputs": [
    {
     "data": {
      "text/plain": [
       "province\n",
       "MADRID                    18.646642\n",
       "SEVILLA                    9.248152\n",
       "BARCELONA                  9.192356\n",
       "VALENCIA                   5.063468\n",
       "CÁDIZ                      4.779839\n",
       "MÁLAGA                     4.683746\n",
       "MURCIA                     4.372220\n",
       "LAS PALMAS                 3.330699\n",
       "ALICANTE                   2.992824\n",
       "ALMERÍA                    2.909130\n",
       "TOLEDO                     2.737093\n",
       "GRANADA                    2.234931\n",
       "A CORUÑA                   2.073743\n",
       "BALEARES                   1.968351\n",
       "JAÉN                       1.866059\n",
       "BIZKAIA                    1.706421\n",
       "SANTA CRUZ DE TENERIFE     1.683173\n",
       "GERONA                     1.481688\n",
       "TARRAGONA                  1.332899\n",
       "ASTURIAS                   1.275554\n",
       "CÓRDOBA                    1.216658\n",
       "HUELVA                     1.193410\n",
       "ZARAGOZA                   1.176361\n",
       "PONTEVEDRA                 1.075619\n",
       "VALLADOLID                 1.043071\n",
       "GUADALAJARA                1.036872\n",
       "NAVARRA                    0.917531\n",
       "LÉRIDA                     0.816788\n",
       "CASTELLÓN                  0.784241\n",
       "BADAJOZ                    0.689698\n",
       "LEÓN                       0.678849\n",
       "CANTABRIA                  0.657150\n",
       "CIUDAD REAL                0.598255\n",
       "SALAMANCA                  0.485113\n",
       "GUIPÚZCOA                  0.433967\n",
       "LA RIOJA                   0.427768\n",
       "LUGO                       0.387471\n",
       "BURGOS                     0.361123\n",
       "ORENSE                     0.314626\n",
       "ÁLAVA                      0.299127\n",
       "HUESCA                     0.280529\n",
       "ALBACETE                   0.234032\n",
       "SEGOVIA                    0.226283\n",
       "ÁVILA                      0.226283\n",
       "CÁCERES                    0.210784\n",
       "ZAMORA                     0.176687\n",
       "CUENCA                     0.154988\n",
       "PALENCIA                   0.151889\n",
       "SORIA                      0.096093\n",
       "TERUEL                     0.069745\n",
       "Name: count, dtype: float64"
      ]
     },
     "execution_count": 52,
     "metadata": {},
     "output_type": "execute_result"
    }
   ],
   "source": [
    "# Frecuencia Relativa\n",
    "(df_customers_cleaned.province.value_counts()/len(df_customers_cleaned))*100"
   ]
  },
  {
   "cell_type": "code",
   "execution_count": 53,
   "metadata": {},
   "outputs": [
    {
     "data": {
      "image/png": "[encoded data removed]",
      "text/plain": [
       "<Figure size 1000x600 with 1 Axes>"
      ]
     },
     "metadata": {},
     "output_type": "display_data"
    }
   ],
   "source": [
    "((df_customers_cleaned.province.value_counts(ascending=False)/len(df_customers_cleaned))*100).head(12).plot(\n",
    "    kind=\"barh\", \n",
    "    figsize=(10, 6),  # Tamaño opcional de la gráfica\n",
    "    color=\"skyblue\",  # Color opcional\n",
    "    title=\"Top 12 Provincias Más Frecuentes\"\n",
    ")\n",
    "plt.xlabel(\"Frecuencia Relativa\")\n",
    "plt.ylabel(\"Provincia\")\n",
    "plt.gca().invert_yaxis()  # Invertir eje Y para que el valor más alto esté arriba\n",
    "plt.show()"
   ]
  },
  {
   "cell_type": "code",
   "execution_count": 54,
   "metadata": {},
   "outputs": [
    {
     "name": "stdout",
     "output_type": "stream",
     "text": [
      "41.0 57.0 62.0 86.0\n"
     ]
    }
   ],
   "source": [
    "# Percentil\n",
    "print(df_customers_cleaned.age.quantile(0.5),\n",
    "    df_customers_cleaned.age.quantile(0.9), \n",
    "    df_customers_cleaned.age.quantile(0.95),\n",
    "    df_customers_cleaned.age.max())"
   ]
  },
  {
   "cell_type": "code",
   "execution_count": 55,
   "metadata": {},
   "outputs": [
    {
     "data": {
      "text/plain": [
       "count    64521.000000\n",
       "mean        41.521520\n",
       "std         11.753854\n",
       "min         19.000000\n",
       "25%         34.000000\n",
       "50%         41.000000\n",
       "75%         49.000000\n",
       "max         86.000000\n",
       "Name: age, dtype: float64"
      ]
     },
     "execution_count": 55,
     "metadata": {},
     "output_type": "execute_result"
    }
   ],
   "source": [
    "df_customers_cleaned.age.describe()"
   ]
  },
  {
   "cell_type": "code",
   "execution_count": 56,
   "metadata": {},
   "outputs": [],
   "source": [
    "# Cuartil\n",
    "def get_IQR(df_customers_cleaned, col):\n",
    "    return df_customers_cleaned[col].quantile(0.75) - df_customers_cleaned[col].quantile(0.25)"
   ]
  },
  {
   "cell_type": "code",
   "execution_count": 57,
   "metadata": {},
   "outputs": [
    {
     "data": {
      "text/plain": [
       "np.float64(15.0)"
      ]
     },
     "execution_count": 57,
     "metadata": {},
     "output_type": "execute_result"
    }
   ],
   "source": [
    "get_IQR(df_customers_cleaned,\"age\")"
   ]
  },
  {
   "cell_type": "code",
   "execution_count": 58,
   "metadata": {},
   "outputs": [
    {
     "data": {
      "text/plain": [
       "policyId       18459.0\n",
       "customerId    479953.0\n",
       "age               41.0\n",
       "Name: 50%, dtype: float64"
      ]
     },
     "execution_count": 58,
     "metadata": {},
     "output_type": "execute_result"
    }
   ],
   "source": [
    "df_customers_cleaned.describe().loc[\"50%\"] # IQR(Rango intercuartílico)<Mediana , variable dispersa"
   ]
  },
  {
   "cell_type": "code",
   "execution_count": 59,
   "metadata": {},
   "outputs": [],
   "source": [
    "def plot_multiple_boxplots(df, columns, dim_matriz_visual = 2):\n",
    "    num_cols = len(columns)\n",
    "    num_rows = num_cols // dim_matriz_visual + num_cols % dim_matriz_visual\n",
    "    fig, axes = plt.subplots(num_rows, dim_matriz_visual, figsize=(12, 6 * num_rows))\n",
    "    axes = axes.flatten()\n",
    "\n",
    "    for i, column in enumerate(columns):\n",
    "        if df[column].dtype in ['int64', 'float64']:\n",
    "            sns.boxplot(data=df, x=column, ax=axes[i])\n",
    "            axes[i].set_title(column)\n",
    "\n",
    "    # Ocultar ejes vacíos\n",
    "    for j in range(i+1, num_rows * 2):\n",
    "        axes[j].axis('off')\n",
    "\n",
    "    plt.tight_layout()\n",
    "    plt.show()"
   ]
  },
  {
   "cell_type": "code",
   "execution_count": 60,
   "metadata": {},
   "outputs": [
    {
     "name": "stdout",
     "output_type": "stream",
     "text": [
      "['policyId', 'customerId', 'age']\n"
     ]
    }
   ],
   "source": [
    "# BoxPlots\n",
    "columnas_numericas_customers = df_customers_cleaned.describe().T.index.to_list()\n",
    "print(columnas_numericas_customers)"
   ]
  },
  {
   "cell_type": "code",
   "execution_count": 61,
   "metadata": {},
   "outputs": [
    {
     "data": {
      "image/png": "[encoded data removed]",
      "text/plain": [
       "<Figure size 1200x1200 with 4 Axes>"
      ]
     },
     "metadata": {},
     "output_type": "display_data"
    }
   ],
   "source": [
    "plot_multiple_boxplots(df_customers_cleaned, columnas_numericas_customers)"
   ]
  },
  {
   "cell_type": "code",
   "execution_count": 62,
   "metadata": {},
   "outputs": [],
   "source": [
    "# Age, cierta dispersión con valores muy dispares"
   ]
  },
  {
   "cell_type": "code",
   "execution_count": 63,
   "metadata": {},
   "outputs": [],
   "source": [
    "# Coeficiente de variación (CV)\n",
    "def variabilidad(df):\n",
    "    df_var=df_customers_cleaned.describe().loc[[\"std\",\"mean\"]].T\n",
    "    df_var[\"CV\"]=df_var[\"std\"]/df_var[\"mean\"]\n",
    "    return df_var"
   ]
  },
  {
   "cell_type": "code",
   "execution_count": 64,
   "metadata": {},
   "outputs": [
    {
     "data": {
      "text/html": [
       "<div>\n",
       "<style scoped>\n",
       "    .dataframe tbody tr th:only-of-type {\n",
       "        vertical-align: middle;\n",
       "    }\n",
       "\n",
       "    .dataframe tbody tr th {\n",
       "        vertical-align: top;\n",
       "    }\n",
       "\n",
       "    .dataframe thead th {\n",
       "        text-align: right;\n",
       "    }\n",
       "</style>\n",
       "<table border=\"1\" class=\"dataframe\">\n",
       "  <thead>\n",
       "    <tr style=\"text-align: right;\">\n",
       "      <th></th>\n",
       "      <th>std</th>\n",
       "      <th>mean</th>\n",
       "      <th>CV</th>\n",
       "    </tr>\n",
       "  </thead>\n",
       "  <tbody>\n",
       "    <tr>\n",
       "      <th>policyId</th>\n",
       "      <td>12754.504892</td>\n",
       "      <td>19617.365571</td>\n",
       "      <td>0.650164</td>\n",
       "    </tr>\n",
       "    <tr>\n",
       "      <th>customerId</th>\n",
       "      <td>571228.801218</td>\n",
       "      <td>650522.675222</td>\n",
       "      <td>0.878107</td>\n",
       "    </tr>\n",
       "    <tr>\n",
       "      <th>age</th>\n",
       "      <td>11.753854</td>\n",
       "      <td>41.521520</td>\n",
       "      <td>0.283079</td>\n",
       "    </tr>\n",
       "  </tbody>\n",
       "</table>\n",
       "</div>"
      ],
      "text/plain": [
       "                      std           mean        CV\n",
       "policyId     12754.504892   19617.365571  0.650164\n",
       "customerId  571228.801218  650522.675222  0.878107\n",
       "age             11.753854      41.521520  0.283079"
      ]
     },
     "execution_count": 64,
     "metadata": {},
     "output_type": "execute_result"
    }
   ],
   "source": [
    "variabilidad(df_customers_cleaned) # Variabilidad baja, age"
   ]
  },
  {
   "cell_type": "code",
   "execution_count": 65,
   "metadata": {},
   "outputs": [
    {
     "data": {
      "image/png": "[encoded data removed]",
      "text/plain": [
       "<Figure size 640x480 with 1 Axes>"
      ]
     },
     "metadata": {},
     "output_type": "display_data"
    }
   ],
   "source": [
    "df_customers_cleaned[\"age\"].hist();"
   ]
  },
  {
   "cell_type": "code",
   "execution_count": 66,
   "metadata": {},
   "outputs": [],
   "source": [
    "def plot_histo_den(df, columns):\n",
    "    num_cols = len(columns)\n",
    "    num_rows = num_cols // 2 + num_cols % 2\n",
    "    fig, axes = plt.subplots(num_rows, 2, figsize=(12, 6 * num_rows))\n",
    "    axes = axes.flatten()\n",
    "\n",
    "    for i, column in enumerate(columns):\n",
    "        if df[column].dtype in ['int64', 'float64']:\n",
    "            sns.histplot(df[column], kde=True, ax=axes[i])\n",
    "            axes[i].set_title(f'Histograma y KDE de {column}')\n",
    "\n",
    "    # Ocultar ejes vacíos\n",
    "    for j in range(i + 1, num_rows * 2):\n",
    "        axes[j].axis('off')\n",
    "\n",
    "    plt.tight_layout()\n",
    "    plt.show()"
   ]
  },
  {
   "cell_type": "code",
   "execution_count": 67,
   "metadata": {},
   "outputs": [
    {
     "data": {
      "image/png": "[encoded data removed]",
      "text/plain": [
       "<Figure size 1200x600 with 2 Axes>"
      ]
     },
     "metadata": {},
     "output_type": "display_data"
    }
   ],
   "source": [
    "plot_histo_den(df_customers_cleaned,[\"age\"])"
   ]
  },
  {
   "cell_type": "code",
   "execution_count": 68,
   "metadata": {},
   "outputs": [
    {
     "data": {
      "image/png": "[encoded data removed]",
      "text/plain": [
       "<Figure size 1200x600 with 2 Axes>"
      ]
     },
     "metadata": {},
     "output_type": "display_data"
    }
   ],
   "source": [
    "plot_multiple_boxplots(df_customers_cleaned,[\"age\"])"
   ]
  },
  {
   "cell_type": "code",
   "execution_count": null,
   "metadata": {},
   "outputs": [],
   "source": []
  },
  {
   "cell_type": "code",
   "execution_count": null,
   "metadata": {},
   "outputs": [],
   "source": []
  }
 ],
 "metadata": {
  "kernelspec": {
   "display_name": "Python 3",
   "language": "python",
   "name": "python3"
  },
  "language_info": {
   "codemirror_mode": {
    "name": "ipython",
    "version": 3
   },
   "file_extension": ".py",
   "mimetype": "text/x-python",
   "name": "python",
   "nbconvert_exporter": "python",
   "pygments_lexer": "ipython3",
   "version": "3.13.0"
  }
 },
 "nbformat": 4,
 "nbformat_minor": 2
}
