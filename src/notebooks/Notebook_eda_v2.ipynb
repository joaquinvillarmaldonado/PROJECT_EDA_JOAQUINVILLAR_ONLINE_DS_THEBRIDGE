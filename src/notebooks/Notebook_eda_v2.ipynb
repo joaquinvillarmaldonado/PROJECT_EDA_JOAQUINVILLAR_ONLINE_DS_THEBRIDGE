{
 "cells": [
  {
   "cell_type": "code",
   "execution_count": 1,
   "metadata": {},
   "outputs": [],
   "source": [
    "import numpy as np\n",
    "import pandas as pd"
   ]
  },
  {
   "cell_type": "code",
   "execution_count": 2,
   "metadata": {},
   "outputs": [
    {
     "data": {
      "text/html": [
       "<div>\n",
       "<style scoped>\n",
       "    .dataframe tbody tr th:only-of-type {\n",
       "        vertical-align: middle;\n",
       "    }\n",
       "\n",
       "    .dataframe tbody tr th {\n",
       "        vertical-align: top;\n",
       "    }\n",
       "\n",
       "    .dataframe thead th {\n",
       "        text-align: right;\n",
       "    }\n",
       "</style>\n",
       "<table border=\"1\" class=\"dataframe\">\n",
       "  <thead>\n",
       "    <tr style=\"text-align: right;\">\n",
       "      <th></th>\n",
       "      <th>policyId</th>\n",
       "      <th>customerId</th>\n",
       "      <th>profession</th>\n",
       "      <th>role</th>\n",
       "      <th>isMainDriver</th>\n",
       "      <th>age</th>\n",
       "      <th>licenseYears</th>\n",
       "      <th>isMainAddress</th>\n",
       "      <th>province</th>\n",
       "      <th>city</th>\n",
       "      <th>postalCode</th>\n",
       "    </tr>\n",
       "  </thead>\n",
       "  <tbody>\n",
       "    <tr>\n",
       "      <th>15133</th>\n",
       "      <td>2080</td>\n",
       "      <td>50418</td>\n",
       "      <td>NaN</td>\n",
       "      <td>Owner</td>\n",
       "      <td>0</td>\n",
       "      <td>41.0</td>\n",
       "      <td>21.0</td>\n",
       "      <td>1</td>\n",
       "      <td>MADRID</td>\n",
       "      <td>MADRID</td>\n",
       "      <td>28108.0</td>\n",
       "    </tr>\n",
       "    <tr>\n",
       "      <th>205162</th>\n",
       "      <td>39395</td>\n",
       "      <td>1626312</td>\n",
       "      <td>SinEmpleo</td>\n",
       "      <td>Owner</td>\n",
       "      <td>0</td>\n",
       "      <td>30.0</td>\n",
       "      <td>12.0</td>\n",
       "      <td>1</td>\n",
       "      <td>CASTELLÓN</td>\n",
       "      <td>CASTELLÓN</td>\n",
       "      <td>12002.0</td>\n",
       "    </tr>\n",
       "    <tr>\n",
       "      <th>184819</th>\n",
       "      <td>33804</td>\n",
       "      <td>1621022</td>\n",
       "      <td>NaN</td>\n",
       "      <td>Owner</td>\n",
       "      <td>0</td>\n",
       "      <td>20.0</td>\n",
       "      <td>NaN</td>\n",
       "      <td>1</td>\n",
       "      <td>CASTELLÓN</td>\n",
       "      <td>CASTELLÓN</td>\n",
       "      <td>12580.0</td>\n",
       "    </tr>\n",
       "    <tr>\n",
       "      <th>176323</th>\n",
       "      <td>31428</td>\n",
       "      <td>1526072</td>\n",
       "      <td>Conductor</td>\n",
       "      <td>Driver</td>\n",
       "      <td>1</td>\n",
       "      <td>39.0</td>\n",
       "      <td>10.0</td>\n",
       "      <td>1</td>\n",
       "      <td>BARCELONA</td>\n",
       "      <td>BARCELONA</td>\n",
       "      <td>8110.0</td>\n",
       "    </tr>\n",
       "    <tr>\n",
       "      <th>129582</th>\n",
       "      <td>21534</td>\n",
       "      <td>715920</td>\n",
       "      <td>TareasHogar</td>\n",
       "      <td>Driver</td>\n",
       "      <td>1</td>\n",
       "      <td>30.0</td>\n",
       "      <td>4.0</td>\n",
       "      <td>1</td>\n",
       "      <td>CÁDIZ</td>\n",
       "      <td>CÁDIZ</td>\n",
       "      <td>11130.0</td>\n",
       "    </tr>\n",
       "    <tr>\n",
       "      <th>135611</th>\n",
       "      <td>22605</td>\n",
       "      <td>478452</td>\n",
       "      <td>Agricultor</td>\n",
       "      <td>Owner</td>\n",
       "      <td>0</td>\n",
       "      <td>44.0</td>\n",
       "      <td>14.0</td>\n",
       "      <td>1</td>\n",
       "      <td>GUIPÚZCOA</td>\n",
       "      <td>GUIPÚZCOA</td>\n",
       "      <td>20100.0</td>\n",
       "    </tr>\n",
       "    <tr>\n",
       "      <th>114919</th>\n",
       "      <td>18906</td>\n",
       "      <td>673500</td>\n",
       "      <td>Mantenimiento</td>\n",
       "      <td>Owner</td>\n",
       "      <td>0</td>\n",
       "      <td>29.0</td>\n",
       "      <td>8.0</td>\n",
       "      <td>0</td>\n",
       "      <td>LAS PALMAS</td>\n",
       "      <td>LAS PALMAS</td>\n",
       "      <td>35008.0</td>\n",
       "    </tr>\n",
       "    <tr>\n",
       "      <th>208114</th>\n",
       "      <td>40201</td>\n",
       "      <td>1525370</td>\n",
       "      <td>Hosteleria</td>\n",
       "      <td>Owner</td>\n",
       "      <td>0</td>\n",
       "      <td>27.0</td>\n",
       "      <td>6.0</td>\n",
       "      <td>0</td>\n",
       "      <td>GERONA</td>\n",
       "      <td>GERONA</td>\n",
       "      <td>17300.0</td>\n",
       "    </tr>\n",
       "    <tr>\n",
       "      <th>149921</th>\n",
       "      <td>25157</td>\n",
       "      <td>1021337</td>\n",
       "      <td>Directivo</td>\n",
       "      <td>Owner</td>\n",
       "      <td>0</td>\n",
       "      <td>27.0</td>\n",
       "      <td>8.0</td>\n",
       "      <td>1</td>\n",
       "      <td>SEVILLA</td>\n",
       "      <td>SEVILLA</td>\n",
       "      <td>41110.0</td>\n",
       "    </tr>\n",
       "    <tr>\n",
       "      <th>159511</th>\n",
       "      <td>26954</td>\n",
       "      <td>715661</td>\n",
       "      <td>Operario</td>\n",
       "      <td>Driver</td>\n",
       "      <td>1</td>\n",
       "      <td>45.0</td>\n",
       "      <td>9.0</td>\n",
       "      <td>0</td>\n",
       "      <td>LÉRIDA</td>\n",
       "      <td>LÉRIDA</td>\n",
       "      <td>25700.0</td>\n",
       "    </tr>\n",
       "    <tr>\n",
       "      <th>158646</th>\n",
       "      <td>26786</td>\n",
       "      <td>1189987</td>\n",
       "      <td>Construccion</td>\n",
       "      <td>Driver</td>\n",
       "      <td>1</td>\n",
       "      <td>58.0</td>\n",
       "      <td>22.0</td>\n",
       "      <td>1</td>\n",
       "      <td>A CORUÑA</td>\n",
       "      <td>A CORUÑA</td>\n",
       "      <td>15830.0</td>\n",
       "    </tr>\n",
       "    <tr>\n",
       "      <th>167521</th>\n",
       "      <td>28919</td>\n",
       "      <td>550224</td>\n",
       "      <td>Mecanico</td>\n",
       "      <td>Driver</td>\n",
       "      <td>1</td>\n",
       "      <td>29.0</td>\n",
       "      <td>10.0</td>\n",
       "      <td>1</td>\n",
       "      <td>NAVARRA</td>\n",
       "      <td>NAVARRA</td>\n",
       "      <td>31010.0</td>\n",
       "    </tr>\n",
       "  </tbody>\n",
       "</table>\n",
       "</div>"
      ],
      "text/plain": [
       "        policyId  customerId     profession    role  isMainDriver   age  \\\n",
       "15133       2080       50418            NaN   Owner             0  41.0   \n",
       "205162     39395     1626312      SinEmpleo   Owner             0  30.0   \n",
       "184819     33804     1621022            NaN   Owner             0  20.0   \n",
       "176323     31428     1526072      Conductor  Driver             1  39.0   \n",
       "129582     21534      715920    TareasHogar  Driver             1  30.0   \n",
       "135611     22605      478452     Agricultor   Owner             0  44.0   \n",
       "114919     18906      673500  Mantenimiento   Owner             0  29.0   \n",
       "208114     40201     1525370     Hosteleria   Owner             0  27.0   \n",
       "149921     25157     1021337      Directivo   Owner             0  27.0   \n",
       "159511     26954      715661       Operario  Driver             1  45.0   \n",
       "158646     26786     1189987   Construccion  Driver             1  58.0   \n",
       "167521     28919      550224       Mecanico  Driver             1  29.0   \n",
       "\n",
       "        licenseYears  isMainAddress    province        city  postalCode  \n",
       "15133           21.0              1      MADRID     MADRID      28108.0  \n",
       "205162          12.0              1   CASTELLÓN   CASTELLÓN     12002.0  \n",
       "184819           NaN              1   CASTELLÓN   CASTELLÓN     12580.0  \n",
       "176323          10.0              1   BARCELONA   BARCELONA      8110.0  \n",
       "129582           4.0              1       CÁDIZ       CÁDIZ     11130.0  \n",
       "135611          14.0              1   GUIPÚZCOA   GUIPÚZCOA     20100.0  \n",
       "114919           8.0              0  LAS PALMAS  LAS PALMAS     35008.0  \n",
       "208114           6.0              0      GERONA      GERONA     17300.0  \n",
       "149921           8.0              1     SEVILLA     SEVILLA     41110.0  \n",
       "159511           9.0              0      LÉRIDA      LÉRIDA     25700.0  \n",
       "158646          22.0              1    A CORUÑA    A CORUÑA     15830.0  \n",
       "167521          10.0              1     NAVARRA     NAVARRA     31010.0  "
      ]
     },
     "execution_count": 2,
     "metadata": {},
     "output_type": "execute_result"
    }
   ],
   "source": [
    "file = \"C:/Users/María Moya/Documents/GitHub/PROJECT_EDA_JOAQUINVILLAR_ONLINE_DS_THEBRIDGE/src/data/Hello_Auto_data.xlsx\"\n",
    "df_customers = pd.read_excel(file,sheet_name = \"Customers\")\n",
    "df_customers\n",
    "df_customers.sample(12)"
   ]
  },
  {
   "cell_type": "code",
   "execution_count": 3,
   "metadata": {},
   "outputs": [
    {
     "name": "stdout",
     "output_type": "stream",
     "text": [
      "<class 'pandas.core.frame.DataFrame'>\n",
      "RangeIndex: 225197 entries, 0 to 225196\n",
      "Data columns (total 11 columns):\n",
      " #   Column         Non-Null Count   Dtype  \n",
      "---  ------         --------------   -----  \n",
      " 0   policyId       225197 non-null  int64  \n",
      " 1   customerId     225197 non-null  int64  \n",
      " 2   profession     129501 non-null  object \n",
      " 3   role           225197 non-null  object \n",
      " 4   isMainDriver   225197 non-null  int64  \n",
      " 5   age            223197 non-null  float64\n",
      " 6   licenseYears   215424 non-null  float64\n",
      " 7   isMainAddress  225197 non-null  int64  \n",
      " 8   province       211570 non-null  object \n",
      " 9   city           211570 non-null  object \n",
      " 10  postalCode     211570 non-null  float64\n",
      "dtypes: float64(3), int64(4), object(4)\n",
      "memory usage: 18.9+ MB\n"
     ]
    }
   ],
   "source": [
    "df_customers.info()"
   ]
  },
  {
   "cell_type": "code",
   "execution_count": 4,
   "metadata": {},
   "outputs": [
    {
     "data": {
      "text/plain": [
       "np.int64(13899)"
      ]
     },
     "execution_count": 4,
     "metadata": {},
     "output_type": "execute_result"
    }
   ],
   "source": [
    "#Duplicados\n",
    "df_customers.duplicated(keep=False).sum()"
   ]
  },
  {
   "cell_type": "code",
   "execution_count": 5,
   "metadata": {},
   "outputs": [
    {
     "data": {
      "text/plain": [
       "province\n",
       "MADRID                    36188\n",
       "SEVILLA                   19686\n",
       "BARCELONA                 18742\n",
       "VALENCIA                  11263\n",
       "MÁLAGA                    10877\n",
       "CÁDIZ                     10466\n",
       "MURCIA                     8864\n",
       "LAS PALMAS                 7005\n",
       "ALICANTE                   6680\n",
       "TOLEDO                     6242\n",
       "ALMERÍA                    6148\n",
       "GRANADA                    4916\n",
       "JAÉN                       4859\n",
       "A CORUÑA                   4569\n",
       "BALEARES                   4383\n",
       "BIZKAIA                    3663\n",
       "GERONA                     3440\n",
       "TARRAGONA                  3062\n",
       "ASTURIAS                   2764\n",
       "SANTA CRUZ DE TENERIFE     2721\n",
       "ZARAGOZA                   2621\n",
       "HUELVA                     2417\n",
       "CÓRDOBA                    2385\n",
       "PONTEVEDRA                 2300\n",
       "GUADALAJARA                2296\n",
       "VALLADOLID                 2249\n",
       "NAVARRA                    2039\n",
       "LÉRIDA                     1757\n",
       "CASTELLÓN                  1559\n",
       "LEÓN                       1438\n",
       "BADAJOZ                    1420\n",
       "CANTABRIA                  1280\n",
       "CIUDAD REAL                1209\n",
       "SALAMANCA                  1067\n",
       "GUIPÚZCOA                   953\n",
       "LA RIOJA                    948\n",
       "LUGO                        781\n",
       "BURGOS                      729\n",
       "ORENSE                      720\n",
       "HUESCA                      660\n",
       "ÁLAVA                       624\n",
       "SEGOVIA                     600\n",
       "ÁVILA                       529\n",
       "ALBACETE                    515\n",
       "CÁCERES                     475\n",
       "ZAMORA                      407\n",
       "PALENCIA                    351\n",
       "CUENCA                      280\n",
       "SORIA                       177\n",
       "TERUEL                      172\n",
       "--                           62\n",
       "Ávila                         9\n",
       "00000000                      3\n",
       "Name: count, dtype: int64"
      ]
     },
     "execution_count": 5,
     "metadata": {},
     "output_type": "execute_result"
    }
   ],
   "source": [
    "df_customers.province.value_counts()"
   ]
  },
  {
   "cell_type": "code",
   "execution_count": 6,
   "metadata": {},
   "outputs": [
    {
     "data": {
      "text/plain": [
       "policyId             0\n",
       "customerId           0\n",
       "profession       95696\n",
       "role                 0\n",
       "isMainDriver         0\n",
       "age               2000\n",
       "licenseYears      9773\n",
       "isMainAddress        0\n",
       "province         13627\n",
       "city             13627\n",
       "postalCode       13627\n",
       "dtype: int64"
      ]
     },
     "execution_count": 6,
     "metadata": {},
     "output_type": "execute_result"
    }
   ],
   "source": [
    "#Valores nulos\n",
    "df_customers.isna().sum()"
   ]
  },
  {
   "cell_type": "code",
   "execution_count": null,
   "metadata": {},
   "outputs": [],
   "source": []
  },
  {
   "cell_type": "code",
   "execution_count": null,
   "metadata": {},
   "outputs": [],
   "source": []
  },
  {
   "cell_type": "code",
   "execution_count": null,
   "metadata": {},
   "outputs": [],
   "source": []
  },
  {
   "cell_type": "markdown",
   "metadata": {},
   "source": [
    "# Análisis Univariante\n",
    "1.1. Distribución de la edad de los clientes \\\n",
    "1.2. Distribución de la localización de los clientes"
   ]
  },
  {
   "cell_type": "code",
   "execution_count": null,
   "metadata": {},
   "outputs": [],
   "source": []
  },
  {
   "cell_type": "code",
   "execution_count": null,
   "metadata": {},
   "outputs": [],
   "source": []
  },
  {
   "cell_type": "code",
   "execution_count": null,
   "metadata": {},
   "outputs": [],
   "source": []
  },
  {
   "cell_type": "code",
   "execution_count": null,
   "metadata": {},
   "outputs": [],
   "source": []
  },
  {
   "cell_type": "code",
   "execution_count": null,
   "metadata": {},
   "outputs": [],
   "source": []
  },
  {
   "cell_type": "code",
   "execution_count": null,
   "metadata": {},
   "outputs": [],
   "source": []
  },
  {
   "cell_type": "code",
   "execution_count": null,
   "metadata": {},
   "outputs": [],
   "source": []
  },
  {
   "cell_type": "code",
   "execution_count": null,
   "metadata": {},
   "outputs": [],
   "source": []
  },
  {
   "cell_type": "code",
   "execution_count": null,
   "metadata": {},
   "outputs": [],
   "source": []
  },
  {
   "cell_type": "code",
   "execution_count": null,
   "metadata": {},
   "outputs": [],
   "source": []
  },
  {
   "cell_type": "code",
   "execution_count": null,
   "metadata": {},
   "outputs": [],
   "source": []
  },
  {
   "cell_type": "code",
   "execution_count": null,
   "metadata": {},
   "outputs": [],
   "source": []
  },
  {
   "cell_type": "code",
   "execution_count": null,
   "metadata": {},
   "outputs": [],
   "source": []
  },
  {
   "cell_type": "code",
   "execution_count": null,
   "metadata": {},
   "outputs": [],
   "source": []
  },
  {
   "cell_type": "code",
   "execution_count": null,
   "metadata": {},
   "outputs": [],
   "source": []
  },
  {
   "cell_type": "code",
   "execution_count": null,
   "metadata": {},
   "outputs": [],
   "source": []
  }
 ],
 "metadata": {
  "kernelspec": {
   "display_name": "Python 3",
   "language": "python",
   "name": "python3"
  },
  "language_info": {
   "codemirror_mode": {
    "name": "ipython",
    "version": 3
   },
   "file_extension": ".py",
   "mimetype": "text/x-python",
   "name": "python",
   "nbconvert_exporter": "python",
   "pygments_lexer": "ipython3",
   "version": "3.13.0"
  }
 },
 "nbformat": 4,
 "nbformat_minor": 2
}
